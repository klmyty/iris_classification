{
 "cells": [
  {
   "attachments": {},
   "cell_type": "markdown",
   "metadata": {},
   "source": [
    "# 建立RF模型"
   ]
  },
  {
   "cell_type": "code",
   "execution_count": 5,
   "metadata": {},
   "outputs": [
    {
     "data": {
      "text/html": [
       "<div>\n",
       "<style scoped>\n",
       "    .dataframe tbody tr th:only-of-type {\n",
       "        vertical-align: middle;\n",
       "    }\n",
       "\n",
       "    .dataframe tbody tr th {\n",
       "        vertical-align: top;\n",
       "    }\n",
       "\n",
       "    .dataframe thead th {\n",
       "        text-align: right;\n",
       "    }\n",
       "</style>\n",
       "<table border=\"1\" class=\"dataframe\">\n",
       "  <thead>\n",
       "    <tr style=\"text-align: right;\">\n",
       "      <th></th>\n",
       "      <th>井深(8004) m</th>\n",
       "      <th>迟到井深(8006) m</th>\n",
       "      <th>大钩高度(8008) m</th>\n",
       "      <th>全烃(8219) %</th>\n",
       "      <th>入口温度(8106) DEG.C</th>\n",
       "      <th>时间</th>\n",
       "      <th>泵冲次1(8059) spm</th>\n",
       "      <th>出口密度(8105) g/cm3</th>\n",
       "      <th>套管压力(8019) MPa</th>\n",
       "      <th>钻时(8020) min/m</th>\n",
       "      <th>...</th>\n",
       "      <th>钻压(8011) kN</th>\n",
       "      <th>入口流量(8110) L/s</th>\n",
       "      <th>出口温度(8107) DEG.C</th>\n",
       "      <th>钻头位置(8005) m</th>\n",
       "      <th>入口密度(8104) g/cm3</th>\n",
       "      <th>扭矩(8013) kN.m</th>\n",
       "      <th>大钩负荷(8010) kN</th>\n",
       "      <th>总池体积(8112) m3</th>\n",
       "      <th>溢流</th>\n",
       "      <th>转盘转速(8012) RPM</th>\n",
       "    </tr>\n",
       "  </thead>\n",
       "  <tbody>\n",
       "    <tr>\n",
       "      <th>0</th>\n",
       "      <td>3023.54</td>\n",
       "      <td>3023.5</td>\n",
       "      <td>5.46742</td>\n",
       "      <td>0.0678</td>\n",
       "      <td>48.94150</td>\n",
       "      <td>2020-01-08 14:00:56</td>\n",
       "      <td>0.0</td>\n",
       "      <td>1.87959</td>\n",
       "      <td>0.0</td>\n",
       "      <td>7.98587</td>\n",
       "      <td>...</td>\n",
       "      <td>0.000</td>\n",
       "      <td>0.0</td>\n",
       "      <td>38.27520</td>\n",
       "      <td>1719.02</td>\n",
       "      <td>2.03658</td>\n",
       "      <td>0.0</td>\n",
       "      <td>228.40900</td>\n",
       "      <td>102.26800</td>\n",
       "      <td>0</td>\n",
       "      <td>0.0</td>\n",
       "    </tr>\n",
       "    <tr>\n",
       "      <th>1</th>\n",
       "      <td>3023.54</td>\n",
       "      <td>3023.5</td>\n",
       "      <td>5.44833</td>\n",
       "      <td>0.0678</td>\n",
       "      <td>48.91951</td>\n",
       "      <td>2020-01-08 14:00:59</td>\n",
       "      <td>0.0</td>\n",
       "      <td>1.87959</td>\n",
       "      <td>0.0</td>\n",
       "      <td>7.98587</td>\n",
       "      <td>...</td>\n",
       "      <td>0.000</td>\n",
       "      <td>0.0</td>\n",
       "      <td>38.26581</td>\n",
       "      <td>1719.02</td>\n",
       "      <td>2.03661</td>\n",
       "      <td>0.0</td>\n",
       "      <td>256.32600</td>\n",
       "      <td>102.34000</td>\n",
       "      <td>0</td>\n",
       "      <td>0.0</td>\n",
       "    </tr>\n",
       "    <tr>\n",
       "      <th>2</th>\n",
       "      <td>3023.54</td>\n",
       "      <td>3023.5</td>\n",
       "      <td>5.31942</td>\n",
       "      <td>0.0678</td>\n",
       "      <td>48.91951</td>\n",
       "      <td>2020-01-08 14:01:02</td>\n",
       "      <td>0.0</td>\n",
       "      <td>1.88025</td>\n",
       "      <td>0.0</td>\n",
       "      <td>7.98587</td>\n",
       "      <td>...</td>\n",
       "      <td>0.000</td>\n",
       "      <td>0.0</td>\n",
       "      <td>38.26581</td>\n",
       "      <td>1719.02</td>\n",
       "      <td>2.03661</td>\n",
       "      <td>0.0</td>\n",
       "      <td>239.40600</td>\n",
       "      <td>102.60399</td>\n",
       "      <td>0</td>\n",
       "      <td>0.0</td>\n",
       "    </tr>\n",
       "    <tr>\n",
       "      <th>3</th>\n",
       "      <td>3023.54</td>\n",
       "      <td>3023.5</td>\n",
       "      <td>5.30988</td>\n",
       "      <td>0.0678</td>\n",
       "      <td>48.94150</td>\n",
       "      <td>2020-01-08 14:01:05</td>\n",
       "      <td>0.0</td>\n",
       "      <td>1.88025</td>\n",
       "      <td>0.0</td>\n",
       "      <td>7.98587</td>\n",
       "      <td>...</td>\n",
       "      <td>0.000</td>\n",
       "      <td>0.0</td>\n",
       "      <td>38.27520</td>\n",
       "      <td>1719.02</td>\n",
       "      <td>2.03658</td>\n",
       "      <td>0.0</td>\n",
       "      <td>261.40100</td>\n",
       "      <td>102.43500</td>\n",
       "      <td>0</td>\n",
       "      <td>0.0</td>\n",
       "    </tr>\n",
       "    <tr>\n",
       "      <th>4</th>\n",
       "      <td>3023.54</td>\n",
       "      <td>3023.5</td>\n",
       "      <td>5.57726</td>\n",
       "      <td>0.0678</td>\n",
       "      <td>48.91951</td>\n",
       "      <td>2020-01-08 14:01:08</td>\n",
       "      <td>0.0</td>\n",
       "      <td>1.88025</td>\n",
       "      <td>0.0</td>\n",
       "      <td>7.98587</td>\n",
       "      <td>...</td>\n",
       "      <td>203.975</td>\n",
       "      <td>0.0</td>\n",
       "      <td>38.26581</td>\n",
       "      <td>1719.02</td>\n",
       "      <td>2.03661</td>\n",
       "      <td>0.0</td>\n",
       "      <td>793.15399</td>\n",
       "      <td>102.59900</td>\n",
       "      <td>0</td>\n",
       "      <td>0.0</td>\n",
       "    </tr>\n",
       "  </tbody>\n",
       "</table>\n",
       "<p>5 rows × 21 columns</p>\n",
       "</div>"
      ],
      "text/plain": [
       "   井深(8004) m  迟到井深(8006) m  大钩高度(8008) m  全烃(8219) %  入口温度(8106) DEG.C  \\\n",
       "0     3023.54        3023.5       5.46742      0.0678          48.94150   \n",
       "1     3023.54        3023.5       5.44833      0.0678          48.91951   \n",
       "2     3023.54        3023.5       5.31942      0.0678          48.91951   \n",
       "3     3023.54        3023.5       5.30988      0.0678          48.94150   \n",
       "4     3023.54        3023.5       5.57726      0.0678          48.91951   \n",
       "\n",
       "                    时间  泵冲次1(8059) spm  出口密度(8105) g/cm3  套管压力(8019) MPa  \\\n",
       "0  2020-01-08 14:00:56             0.0           1.87959             0.0   \n",
       "1  2020-01-08 14:00:59             0.0           1.87959             0.0   \n",
       "2  2020-01-08 14:01:02             0.0           1.88025             0.0   \n",
       "3  2020-01-08 14:01:05             0.0           1.88025             0.0   \n",
       "4  2020-01-08 14:01:08             0.0           1.88025             0.0   \n",
       "\n",
       "   钻时(8020) min/m  ...  钻压(8011) kN  入口流量(8110) L/s  出口温度(8107) DEG.C  \\\n",
       "0         7.98587  ...        0.000             0.0          38.27520   \n",
       "1         7.98587  ...        0.000             0.0          38.26581   \n",
       "2         7.98587  ...        0.000             0.0          38.26581   \n",
       "3         7.98587  ...        0.000             0.0          38.27520   \n",
       "4         7.98587  ...      203.975             0.0          38.26581   \n",
       "\n",
       "   钻头位置(8005) m  入口密度(8104) g/cm3  扭矩(8013) kN.m  大钩负荷(8010) kN  \\\n",
       "0       1719.02           2.03658            0.0      228.40900   \n",
       "1       1719.02           2.03661            0.0      256.32600   \n",
       "2       1719.02           2.03661            0.0      239.40600   \n",
       "3       1719.02           2.03658            0.0      261.40100   \n",
       "4       1719.02           2.03661            0.0      793.15399   \n",
       "\n",
       "   总池体积(8112) m3  溢流  转盘转速(8012) RPM  \n",
       "0      102.26800   0             0.0  \n",
       "1      102.34000   0             0.0  \n",
       "2      102.60399   0             0.0  \n",
       "3      102.43500   0             0.0  \n",
       "4      102.59900   0             0.0  \n",
       "\n",
       "[5 rows x 21 columns]"
      ]
     },
     "execution_count": 5,
     "metadata": {},
     "output_type": "execute_result"
    }
   ],
   "source": [
    "import numpy as np\n",
    "import pandas as pd\n",
    "# readpath = r'井1井3合并_encodedwithconditon.csv'\n",
    "readpath = r'井1井3合并_encodedwithLabelEncoder.csv'\n",
    "data = pd.read_csv(readpath,encoding='GBK')\n",
    "data.head()"
   ]
  },
  {
   "cell_type": "code",
   "execution_count": 6,
   "metadata": {},
   "outputs": [
    {
     "data": {
      "text/plain": [
       "Index(['井深(8004) m', '迟到井深(8006) m', '大钩高度(8008) m', '全烃(8219) %',\n",
       "       '入口温度(8106) DEG.C', '时间', '泵冲次1(8059) spm', '出口密度(8105) g/cm3',\n",
       "       '套管压力(8019) MPa', '钻时(8020) min/m', '立管压力(8018) MPa', '钻压(8011) kN',\n",
       "       '入口流量(8110) L/s', '出口温度(8107) DEG.C', '钻头位置(8005) m',\n",
       "       '入口密度(8104) g/cm3', '扭矩(8013) kN.m', '大钩负荷(8010) kN', '总池体积(8112) m3',\n",
       "       '溢流', '转盘转速(8012) RPM'],\n",
       "      dtype='object')"
      ]
     },
     "execution_count": 6,
     "metadata": {},
     "output_type": "execute_result"
    }
   ],
   "source": [
    "data.columns"
   ]
  },
  {
   "attachments": {},
   "cell_type": "markdown",
   "metadata": {},
   "source": [
    "## 划分训练集和测试集"
   ]
  },
  {
   "cell_type": "code",
   "execution_count": 3,
   "metadata": {},
   "outputs": [],
   "source": [
    "data_label = ['kick_0.0', 'kick_0.5', 'kick_1.0', 'kick_2.0']"
   ]
  },
  {
   "cell_type": "code",
   "execution_count": 4,
   "metadata": {},
   "outputs": [
    {
     "ename": "KeyError",
     "evalue": "\"['kick_0.0', 'kick_0.5', 'kick_1.0', 'kick_2.0'] not found in axis\"",
     "output_type": "error",
     "traceback": [
      "\u001b[0;31m---------------------------------------------------------------------------\u001b[0m",
      "\u001b[0;31mKeyError\u001b[0m                                  Traceback (most recent call last)",
      "Cell \u001b[0;32mIn [4], line 2\u001b[0m\n\u001b[1;32m      1\u001b[0m X \u001b[39m=\u001b[39m data\u001b[39m.\u001b[39mdrop([\u001b[39m'\u001b[39m\u001b[39m时间\u001b[39m\u001b[39m'\u001b[39m], axis\u001b[39m=\u001b[39m\u001b[39m1\u001b[39m)\n\u001b[0;32m----> 2\u001b[0m X \u001b[39m=\u001b[39m X\u001b[39m.\u001b[39;49mdrop(data_label, axis\u001b[39m=\u001b[39;49m\u001b[39m1\u001b[39;49m)\n\u001b[1;32m      3\u001b[0m y \u001b[39m=\u001b[39m data[data_label]\n\u001b[1;32m      4\u001b[0m \u001b[39mfrom\u001b[39;00m \u001b[39msklearn\u001b[39;00m\u001b[39m.\u001b[39;00m\u001b[39mmodel_selection\u001b[39;00m \u001b[39mimport\u001b[39;00m train_test_split\n",
      "File \u001b[0;32m~/code/ML/lib/python3.10/site-packages/pandas/util/_decorators.py:317\u001b[0m, in \u001b[0;36mdeprecate_nonkeyword_arguments.<locals>.decorate.<locals>.wrapper\u001b[0;34m(*args, **kwargs)\u001b[0m\n\u001b[1;32m    311\u001b[0m \u001b[39mif\u001b[39;00m \u001b[39mlen\u001b[39m(args) \u001b[39m>\u001b[39m num_allow_args:\n\u001b[1;32m    312\u001b[0m     warnings\u001b[39m.\u001b[39mwarn(\n\u001b[1;32m    313\u001b[0m         msg\u001b[39m.\u001b[39mformat(arguments\u001b[39m=\u001b[39marguments),\n\u001b[1;32m    314\u001b[0m         \u001b[39mFutureWarning\u001b[39;00m,\n\u001b[1;32m    315\u001b[0m         stacklevel\u001b[39m=\u001b[39mfind_stack_level(inspect\u001b[39m.\u001b[39mcurrentframe()),\n\u001b[1;32m    316\u001b[0m     )\n\u001b[0;32m--> 317\u001b[0m \u001b[39mreturn\u001b[39;00m func(\u001b[39m*\u001b[39;49margs, \u001b[39m*\u001b[39;49m\u001b[39m*\u001b[39;49mkwargs)\n",
      "File \u001b[0;32m~/code/ML/lib/python3.10/site-packages/pandas/core/frame.py:5391\u001b[0m, in \u001b[0;36mDataFrame.drop\u001b[0;34m(self, labels, axis, index, columns, level, inplace, errors)\u001b[0m\n\u001b[1;32m   5243\u001b[0m \u001b[39m@deprecate_nonkeyword_arguments\u001b[39m(version\u001b[39m=\u001b[39m\u001b[39mNone\u001b[39;00m, allowed_args\u001b[39m=\u001b[39m[\u001b[39m\"\u001b[39m\u001b[39mself\u001b[39m\u001b[39m\"\u001b[39m, \u001b[39m\"\u001b[39m\u001b[39mlabels\u001b[39m\u001b[39m\"\u001b[39m])\n\u001b[1;32m   5244\u001b[0m \u001b[39mdef\u001b[39;00m \u001b[39mdrop\u001b[39m(  \u001b[39m# type: ignore[override]\u001b[39;00m\n\u001b[1;32m   5245\u001b[0m     \u001b[39mself\u001b[39m,\n\u001b[0;32m   (...)\u001b[0m\n\u001b[1;32m   5252\u001b[0m     errors: IgnoreRaise \u001b[39m=\u001b[39m \u001b[39m\"\u001b[39m\u001b[39mraise\u001b[39m\u001b[39m\"\u001b[39m,\n\u001b[1;32m   5253\u001b[0m ) \u001b[39m-\u001b[39m\u001b[39m>\u001b[39m DataFrame \u001b[39m|\u001b[39m \u001b[39mNone\u001b[39;00m:\n\u001b[1;32m   5254\u001b[0m     \u001b[39m\"\"\"\u001b[39;00m\n\u001b[1;32m   5255\u001b[0m \u001b[39m    Drop specified labels from rows or columns.\u001b[39;00m\n\u001b[1;32m   5256\u001b[0m \n\u001b[0;32m   (...)\u001b[0m\n\u001b[1;32m   5389\u001b[0m \u001b[39m            weight  1.0     0.8\u001b[39;00m\n\u001b[1;32m   5390\u001b[0m \u001b[39m    \"\"\"\u001b[39;00m\n\u001b[0;32m-> 5391\u001b[0m     \u001b[39mreturn\u001b[39;00m \u001b[39msuper\u001b[39;49m()\u001b[39m.\u001b[39;49mdrop(\n\u001b[1;32m   5392\u001b[0m         labels\u001b[39m=\u001b[39;49mlabels,\n\u001b[1;32m   5393\u001b[0m         axis\u001b[39m=\u001b[39;49maxis,\n\u001b[1;32m   5394\u001b[0m         index\u001b[39m=\u001b[39;49mindex,\n\u001b[1;32m   5395\u001b[0m         columns\u001b[39m=\u001b[39;49mcolumns,\n\u001b[1;32m   5396\u001b[0m         level\u001b[39m=\u001b[39;49mlevel,\n\u001b[1;32m   5397\u001b[0m         inplace\u001b[39m=\u001b[39;49minplace,\n\u001b[1;32m   5398\u001b[0m         errors\u001b[39m=\u001b[39;49merrors,\n\u001b[1;32m   5399\u001b[0m     )\n",
      "File \u001b[0;32m~/code/ML/lib/python3.10/site-packages/pandas/util/_decorators.py:317\u001b[0m, in \u001b[0;36mdeprecate_nonkeyword_arguments.<locals>.decorate.<locals>.wrapper\u001b[0;34m(*args, **kwargs)\u001b[0m\n\u001b[1;32m    311\u001b[0m \u001b[39mif\u001b[39;00m \u001b[39mlen\u001b[39m(args) \u001b[39m>\u001b[39m num_allow_args:\n\u001b[1;32m    312\u001b[0m     warnings\u001b[39m.\u001b[39mwarn(\n\u001b[1;32m    313\u001b[0m         msg\u001b[39m.\u001b[39mformat(arguments\u001b[39m=\u001b[39marguments),\n\u001b[1;32m    314\u001b[0m         \u001b[39mFutureWarning\u001b[39;00m,\n\u001b[1;32m    315\u001b[0m         stacklevel\u001b[39m=\u001b[39mfind_stack_level(inspect\u001b[39m.\u001b[39mcurrentframe()),\n\u001b[1;32m    316\u001b[0m     )\n\u001b[0;32m--> 317\u001b[0m \u001b[39mreturn\u001b[39;00m func(\u001b[39m*\u001b[39;49margs, \u001b[39m*\u001b[39;49m\u001b[39m*\u001b[39;49mkwargs)\n",
      "File \u001b[0;32m~/code/ML/lib/python3.10/site-packages/pandas/core/generic.py:4510\u001b[0m, in \u001b[0;36mNDFrame.drop\u001b[0;34m(self, labels, axis, index, columns, level, inplace, errors)\u001b[0m\n\u001b[1;32m   4508\u001b[0m \u001b[39mfor\u001b[39;00m axis, labels \u001b[39min\u001b[39;00m axes\u001b[39m.\u001b[39mitems():\n\u001b[1;32m   4509\u001b[0m     \u001b[39mif\u001b[39;00m labels \u001b[39mis\u001b[39;00m \u001b[39mnot\u001b[39;00m \u001b[39mNone\u001b[39;00m:\n\u001b[0;32m-> 4510\u001b[0m         obj \u001b[39m=\u001b[39m obj\u001b[39m.\u001b[39;49m_drop_axis(labels, axis, level\u001b[39m=\u001b[39;49mlevel, errors\u001b[39m=\u001b[39;49merrors)\n\u001b[1;32m   4512\u001b[0m \u001b[39mif\u001b[39;00m inplace:\n\u001b[1;32m   4513\u001b[0m     \u001b[39mself\u001b[39m\u001b[39m.\u001b[39m_update_inplace(obj)\n",
      "File \u001b[0;32m~/code/ML/lib/python3.10/site-packages/pandas/core/generic.py:4551\u001b[0m, in \u001b[0;36mNDFrame._drop_axis\u001b[0;34m(self, labels, axis, level, errors, only_slice)\u001b[0m\n\u001b[1;32m   4549\u001b[0m         new_axis \u001b[39m=\u001b[39m axis\u001b[39m.\u001b[39mdrop(labels, level\u001b[39m=\u001b[39mlevel, errors\u001b[39m=\u001b[39merrors)\n\u001b[1;32m   4550\u001b[0m     \u001b[39melse\u001b[39;00m:\n\u001b[0;32m-> 4551\u001b[0m         new_axis \u001b[39m=\u001b[39m axis\u001b[39m.\u001b[39;49mdrop(labels, errors\u001b[39m=\u001b[39;49merrors)\n\u001b[1;32m   4552\u001b[0m     indexer \u001b[39m=\u001b[39m axis\u001b[39m.\u001b[39mget_indexer(new_axis)\n\u001b[1;32m   4554\u001b[0m \u001b[39m# Case for non-unique axis\u001b[39;00m\n\u001b[1;32m   4555\u001b[0m \u001b[39melse\u001b[39;00m:\n",
      "File \u001b[0;32m~/code/ML/lib/python3.10/site-packages/pandas/core/indexes/base.py:6972\u001b[0m, in \u001b[0;36mIndex.drop\u001b[0;34m(self, labels, errors)\u001b[0m\n\u001b[1;32m   6970\u001b[0m \u001b[39mif\u001b[39;00m mask\u001b[39m.\u001b[39many():\n\u001b[1;32m   6971\u001b[0m     \u001b[39mif\u001b[39;00m errors \u001b[39m!=\u001b[39m \u001b[39m\"\u001b[39m\u001b[39mignore\u001b[39m\u001b[39m\"\u001b[39m:\n\u001b[0;32m-> 6972\u001b[0m         \u001b[39mraise\u001b[39;00m \u001b[39mKeyError\u001b[39;00m(\u001b[39mf\u001b[39m\u001b[39m\"\u001b[39m\u001b[39m{\u001b[39;00m\u001b[39mlist\u001b[39m(labels[mask])\u001b[39m}\u001b[39;00m\u001b[39m not found in axis\u001b[39m\u001b[39m\"\u001b[39m)\n\u001b[1;32m   6973\u001b[0m     indexer \u001b[39m=\u001b[39m indexer[\u001b[39m~\u001b[39mmask]\n\u001b[1;32m   6974\u001b[0m \u001b[39mreturn\u001b[39;00m \u001b[39mself\u001b[39m\u001b[39m.\u001b[39mdelete(indexer)\n",
      "\u001b[0;31mKeyError\u001b[0m: \"['kick_0.0', 'kick_0.5', 'kick_1.0', 'kick_2.0'] not found in axis\""
     ]
    }
   ],
   "source": [
    "X = data.drop(['时间'], axis=1)\n",
    "X = X.drop(data_label, axis=1)\n",
    "y = data[data_label]\n",
    "from sklearn.model_selection import train_test_split\n",
    "X_train,X_test,y_train,y_test = train_test_split(X,y, random_state=42,stratify = y)"
   ]
  },
  {
   "attachments": {},
   "cell_type": "markdown",
   "metadata": {},
   "source": [
    "## 用labelencoded后划分数据集"
   ]
  },
  {
   "cell_type": "code",
   "execution_count": 7,
   "metadata": {},
   "outputs": [],
   "source": [
    "X = data.drop(['时间'], axis=1)\n",
    "y = data[['溢流']]\n",
    "from sklearn.model_selection import train_test_split\n",
    "X_train,X_test,y_train,y_test = train_test_split(X,y, random_state=42,stratify = y)"
   ]
  },
  {
   "cell_type": "code",
   "execution_count": 8,
   "metadata": {},
   "outputs": [
    {
     "data": {
      "text/html": [
       "<div>\n",
       "<style scoped>\n",
       "    .dataframe tbody tr th:only-of-type {\n",
       "        vertical-align: middle;\n",
       "    }\n",
       "\n",
       "    .dataframe tbody tr th {\n",
       "        vertical-align: top;\n",
       "    }\n",
       "\n",
       "    .dataframe thead th {\n",
       "        text-align: right;\n",
       "    }\n",
       "</style>\n",
       "<table border=\"1\" class=\"dataframe\">\n",
       "  <thead>\n",
       "    <tr style=\"text-align: right;\">\n",
       "      <th></th>\n",
       "      <th>井深(8004) m</th>\n",
       "      <th>迟到井深(8006) m</th>\n",
       "      <th>大钩高度(8008) m</th>\n",
       "      <th>全烃(8219) %</th>\n",
       "      <th>入口温度(8106) DEG.C</th>\n",
       "      <th>泵冲次1(8059) spm</th>\n",
       "      <th>出口密度(8105) g/cm3</th>\n",
       "      <th>套管压力(8019) MPa</th>\n",
       "      <th>钻时(8020) min/m</th>\n",
       "      <th>立管压力(8018) MPa</th>\n",
       "      <th>钻压(8011) kN</th>\n",
       "      <th>入口流量(8110) L/s</th>\n",
       "      <th>出口温度(8107) DEG.C</th>\n",
       "      <th>钻头位置(8005) m</th>\n",
       "      <th>入口密度(8104) g/cm3</th>\n",
       "      <th>扭矩(8013) kN.m</th>\n",
       "      <th>大钩负荷(8010) kN</th>\n",
       "      <th>总池体积(8112) m3</th>\n",
       "      <th>溢流</th>\n",
       "      <th>转盘转速(8012) RPM</th>\n",
       "    </tr>\n",
       "  </thead>\n",
       "  <tbody>\n",
       "    <tr>\n",
       "      <th>66913</th>\n",
       "      <td>3023.54</td>\n",
       "      <td>3023.5</td>\n",
       "      <td>13.74892</td>\n",
       "      <td>0.08310</td>\n",
       "      <td>37.26341</td>\n",
       "      <td>0.00000</td>\n",
       "      <td>2.105280</td>\n",
       "      <td>0.0</td>\n",
       "      <td>7.98587</td>\n",
       "      <td>16.8592</td>\n",
       "      <td>-69.14949</td>\n",
       "      <td>33.53029</td>\n",
       "      <td>28.84571</td>\n",
       "      <td>2871.17998</td>\n",
       "      <td>1.96177</td>\n",
       "      <td>4.32558</td>\n",
       "      <td>1074.83999</td>\n",
       "      <td>96.45222</td>\n",
       "      <td>0</td>\n",
       "      <td>60.63409</td>\n",
       "    </tr>\n",
       "    <tr>\n",
       "      <th>11792</th>\n",
       "      <td>3023.54</td>\n",
       "      <td>3023.5</td>\n",
       "      <td>11.30520</td>\n",
       "      <td>0.05082</td>\n",
       "      <td>34.71710</td>\n",
       "      <td>0.00000</td>\n",
       "      <td>1.995370</td>\n",
       "      <td>0.0</td>\n",
       "      <td>7.98587</td>\n",
       "      <td>0.0000</td>\n",
       "      <td>173.80100</td>\n",
       "      <td>0.00000</td>\n",
       "      <td>32.22290</td>\n",
       "      <td>2266.55999</td>\n",
       "      <td>1.98273</td>\n",
       "      <td>0.00000</td>\n",
       "      <td>796.30700</td>\n",
       "      <td>117.20300</td>\n",
       "      <td>1</td>\n",
       "      <td>0.00000</td>\n",
       "    </tr>\n",
       "    <tr>\n",
       "      <th>15927</th>\n",
       "      <td>3023.54</td>\n",
       "      <td>3023.5</td>\n",
       "      <td>23.90140</td>\n",
       "      <td>1.06749</td>\n",
       "      <td>36.16589</td>\n",
       "      <td>60.00001</td>\n",
       "      <td>2.086190</td>\n",
       "      <td>0.0</td>\n",
       "      <td>7.98587</td>\n",
       "      <td>4.6850</td>\n",
       "      <td>-98.25681</td>\n",
       "      <td>13.38551</td>\n",
       "      <td>32.83929</td>\n",
       "      <td>2625.24999</td>\n",
       "      <td>2.08992</td>\n",
       "      <td>0.00000</td>\n",
       "      <td>1133.69001</td>\n",
       "      <td>125.20098</td>\n",
       "      <td>1</td>\n",
       "      <td>0.00000</td>\n",
       "    </tr>\n",
       "    <tr>\n",
       "      <th>52714</th>\n",
       "      <td>3023.54</td>\n",
       "      <td>3023.5</td>\n",
       "      <td>6.79483</td>\n",
       "      <td>0.02930</td>\n",
       "      <td>27.06930</td>\n",
       "      <td>0.00000</td>\n",
       "      <td>0.744331</td>\n",
       "      <td>0.0</td>\n",
       "      <td>7.98587</td>\n",
       "      <td>0.0000</td>\n",
       "      <td>0.00000</td>\n",
       "      <td>0.00000</td>\n",
       "      <td>22.89882</td>\n",
       "      <td>31.40000</td>\n",
       "      <td>1.34993</td>\n",
       "      <td>0.00000</td>\n",
       "      <td>273.24500</td>\n",
       "      <td>98.04369</td>\n",
       "      <td>0</td>\n",
       "      <td>0.00000</td>\n",
       "    </tr>\n",
       "    <tr>\n",
       "      <th>69009</th>\n",
       "      <td>3023.54</td>\n",
       "      <td>3023.5</td>\n",
       "      <td>27.30687</td>\n",
       "      <td>0.96660</td>\n",
       "      <td>42.37798</td>\n",
       "      <td>0.00000</td>\n",
       "      <td>2.098050</td>\n",
       "      <td>0.0</td>\n",
       "      <td>7.98587</td>\n",
       "      <td>17.3774</td>\n",
       "      <td>-59.60420</td>\n",
       "      <td>33.46371</td>\n",
       "      <td>34.64658</td>\n",
       "      <td>2888.80002</td>\n",
       "      <td>2.09288</td>\n",
       "      <td>7.97675</td>\n",
       "      <td>1054.87000</td>\n",
       "      <td>99.41969</td>\n",
       "      <td>1</td>\n",
       "      <td>61.83838</td>\n",
       "    </tr>\n",
       "  </tbody>\n",
       "</table>\n",
       "</div>"
      ],
      "text/plain": [
       "       井深(8004) m  迟到井深(8006) m  大钩高度(8008) m  全烃(8219) %  入口温度(8106) DEG.C  \\\n",
       "66913     3023.54        3023.5      13.74892     0.08310          37.26341   \n",
       "11792     3023.54        3023.5      11.30520     0.05082          34.71710   \n",
       "15927     3023.54        3023.5      23.90140     1.06749          36.16589   \n",
       "52714     3023.54        3023.5       6.79483     0.02930          27.06930   \n",
       "69009     3023.54        3023.5      27.30687     0.96660          42.37798   \n",
       "\n",
       "       泵冲次1(8059) spm  出口密度(8105) g/cm3  套管压力(8019) MPa  钻时(8020) min/m  \\\n",
       "66913         0.00000          2.105280             0.0         7.98587   \n",
       "11792         0.00000          1.995370             0.0         7.98587   \n",
       "15927        60.00001          2.086190             0.0         7.98587   \n",
       "52714         0.00000          0.744331             0.0         7.98587   \n",
       "69009         0.00000          2.098050             0.0         7.98587   \n",
       "\n",
       "       立管压力(8018) MPa  钻压(8011) kN  入口流量(8110) L/s  出口温度(8107) DEG.C  \\\n",
       "66913         16.8592    -69.14949        33.53029          28.84571   \n",
       "11792          0.0000    173.80100         0.00000          32.22290   \n",
       "15927          4.6850    -98.25681        13.38551          32.83929   \n",
       "52714          0.0000      0.00000         0.00000          22.89882   \n",
       "69009         17.3774    -59.60420        33.46371          34.64658   \n",
       "\n",
       "       钻头位置(8005) m  入口密度(8104) g/cm3  扭矩(8013) kN.m  大钩负荷(8010) kN  \\\n",
       "66913    2871.17998           1.96177        4.32558     1074.83999   \n",
       "11792    2266.55999           1.98273        0.00000      796.30700   \n",
       "15927    2625.24999           2.08992        0.00000     1133.69001   \n",
       "52714      31.40000           1.34993        0.00000      273.24500   \n",
       "69009    2888.80002           2.09288        7.97675     1054.87000   \n",
       "\n",
       "       总池体积(8112) m3  溢流  转盘转速(8012) RPM  \n",
       "66913       96.45222   0        60.63409  \n",
       "11792      117.20300   1         0.00000  \n",
       "15927      125.20098   1         0.00000  \n",
       "52714       98.04369   0         0.00000  \n",
       "69009       99.41969   1        61.83838  "
      ]
     },
     "execution_count": 8,
     "metadata": {},
     "output_type": "execute_result"
    }
   ],
   "source": [
    "X_train.head()"
   ]
  },
  {
   "cell_type": "code",
   "execution_count": 9,
   "metadata": {},
   "outputs": [
    {
     "name": "stderr",
     "output_type": "stream",
     "text": [
      "/tmp/ipykernel_516/2659854423.py:5: DataConversionWarning: A column-vector y was passed when a 1d array was expected. Please change the shape of y to (n_samples,), for example using ravel().\n",
      "  clf.fit(X_train, y_train)\n"
     ]
    },
    {
     "data": {
      "text/html": [
       "<style>#sk-container-id-1 {color: black;background-color: white;}#sk-container-id-1 pre{padding: 0;}#sk-container-id-1 div.sk-toggleable {background-color: white;}#sk-container-id-1 label.sk-toggleable__label {cursor: pointer;display: block;width: 100%;margin-bottom: 0;padding: 0.3em;box-sizing: border-box;text-align: center;}#sk-container-id-1 label.sk-toggleable__label-arrow:before {content: \"▸\";float: left;margin-right: 0.25em;color: #696969;}#sk-container-id-1 label.sk-toggleable__label-arrow:hover:before {color: black;}#sk-container-id-1 div.sk-estimator:hover label.sk-toggleable__label-arrow:before {color: black;}#sk-container-id-1 div.sk-toggleable__content {max-height: 0;max-width: 0;overflow: hidden;text-align: left;background-color: #f0f8ff;}#sk-container-id-1 div.sk-toggleable__content pre {margin: 0.2em;color: black;border-radius: 0.25em;background-color: #f0f8ff;}#sk-container-id-1 input.sk-toggleable__control:checked~div.sk-toggleable__content {max-height: 200px;max-width: 100%;overflow: auto;}#sk-container-id-1 input.sk-toggleable__control:checked~label.sk-toggleable__label-arrow:before {content: \"▾\";}#sk-container-id-1 div.sk-estimator input.sk-toggleable__control:checked~label.sk-toggleable__label {background-color: #d4ebff;}#sk-container-id-1 div.sk-label input.sk-toggleable__control:checked~label.sk-toggleable__label {background-color: #d4ebff;}#sk-container-id-1 input.sk-hidden--visually {border: 0;clip: rect(1px 1px 1px 1px);clip: rect(1px, 1px, 1px, 1px);height: 1px;margin: -1px;overflow: hidden;padding: 0;position: absolute;width: 1px;}#sk-container-id-1 div.sk-estimator {font-family: monospace;background-color: #f0f8ff;border: 1px dotted black;border-radius: 0.25em;box-sizing: border-box;margin-bottom: 0.5em;}#sk-container-id-1 div.sk-estimator:hover {background-color: #d4ebff;}#sk-container-id-1 div.sk-parallel-item::after {content: \"\";width: 100%;border-bottom: 1px solid gray;flex-grow: 1;}#sk-container-id-1 div.sk-label:hover label.sk-toggleable__label {background-color: #d4ebff;}#sk-container-id-1 div.sk-serial::before {content: \"\";position: absolute;border-left: 1px solid gray;box-sizing: border-box;top: 0;bottom: 0;left: 50%;z-index: 0;}#sk-container-id-1 div.sk-serial {display: flex;flex-direction: column;align-items: center;background-color: white;padding-right: 0.2em;padding-left: 0.2em;position: relative;}#sk-container-id-1 div.sk-item {position: relative;z-index: 1;}#sk-container-id-1 div.sk-parallel {display: flex;align-items: stretch;justify-content: center;background-color: white;position: relative;}#sk-container-id-1 div.sk-item::before, #sk-container-id-1 div.sk-parallel-item::before {content: \"\";position: absolute;border-left: 1px solid gray;box-sizing: border-box;top: 0;bottom: 0;left: 50%;z-index: -1;}#sk-container-id-1 div.sk-parallel-item {display: flex;flex-direction: column;z-index: 1;position: relative;background-color: white;}#sk-container-id-1 div.sk-parallel-item:first-child::after {align-self: flex-end;width: 50%;}#sk-container-id-1 div.sk-parallel-item:last-child::after {align-self: flex-start;width: 50%;}#sk-container-id-1 div.sk-parallel-item:only-child::after {width: 0;}#sk-container-id-1 div.sk-dashed-wrapped {border: 1px dashed gray;margin: 0 0.4em 0.5em 0.4em;box-sizing: border-box;padding-bottom: 0.4em;background-color: white;}#sk-container-id-1 div.sk-label label {font-family: monospace;font-weight: bold;display: inline-block;line-height: 1.2em;}#sk-container-id-1 div.sk-label-container {text-align: center;}#sk-container-id-1 div.sk-container {/* jupyter's `normalize.less` sets `[hidden] { display: none; }` but bootstrap.min.css set `[hidden] { display: none !important; }` so we also need the `!important` here to be able to override the default hidden behavior on the sphinx rendered scikit-learn.org. See: https://github.com/scikit-learn/scikit-learn/issues/21755 */display: inline-block !important;position: relative;}#sk-container-id-1 div.sk-text-repr-fallback {display: none;}</style><div id=\"sk-container-id-1\" class=\"sk-top-container\"><div class=\"sk-text-repr-fallback\"><pre>RandomForestClassifier(random_state=0)</pre><b>In a Jupyter environment, please rerun this cell to show the HTML representation or trust the notebook. <br />On GitHub, the HTML representation is unable to render, please try loading this page with nbviewer.org.</b></div><div class=\"sk-container\" hidden><div class=\"sk-item\"><div class=\"sk-estimator sk-toggleable\"><input class=\"sk-toggleable__control sk-hidden--visually\" id=\"sk-estimator-id-1\" type=\"checkbox\" checked><label for=\"sk-estimator-id-1\" class=\"sk-toggleable__label sk-toggleable__label-arrow\">RandomForestClassifier</label><div class=\"sk-toggleable__content\"><pre>RandomForestClassifier(random_state=0)</pre></div></div></div></div></div>"
      ],
      "text/plain": [
       "RandomForestClassifier(random_state=0)"
      ]
     },
     "execution_count": 9,
     "metadata": {},
     "output_type": "execute_result"
    }
   ],
   "source": [
    "from sklearn.ensemble import RandomForestClassifier\n",
    "from sklearn.datasets import make_classification\n",
    "\n",
    "clf = RandomForestClassifier(random_state=0)\n",
    "clf.fit(X_train, y_train)\n"
   ]
  },
  {
   "attachments": {},
   "cell_type": "markdown",
   "metadata": {},
   "source": [
    "## 预测"
   ]
  },
  {
   "cell_type": "code",
   "execution_count": 10,
   "metadata": {},
   "outputs": [],
   "source": [
    "y_pred = clf.predict(X_test)"
   ]
  },
  {
   "attachments": {},
   "cell_type": "markdown",
   "metadata": {},
   "source": [
    "## 准确率，召回率、f1分数，看模型效果"
   ]
  },
  {
   "cell_type": "code",
   "execution_count": 11,
   "metadata": {},
   "outputs": [
    {
     "name": "stdout",
     "output_type": "stream",
     "text": [
      "              precision    recall  f1-score   support\n",
      "\n",
      "           0       1.00      1.00      1.00     13636\n",
      "           1       1.00      1.00      1.00      4109\n",
      "           2       1.00      1.00      1.00       576\n",
      "           3       1.00      1.00      1.00       470\n",
      "\n",
      "    accuracy                           1.00     18791\n",
      "   macro avg       1.00      1.00      1.00     18791\n",
      "weighted avg       1.00      1.00      1.00     18791\n",
      "\n"
     ]
    }
   ],
   "source": [
    "from sklearn.metrics import classification_report\n",
    "print(classification_report(y_test, y_pred))"
   ]
  },
  {
   "attachments": {},
   "cell_type": "markdown",
   "metadata": {},
   "source": [
    "## 保存训练好的随机森林模型"
   ]
  },
  {
   "cell_type": "code",
   "execution_count": 12,
   "metadata": {},
   "outputs": [
    {
     "data": {
      "text/plain": [
       "['random_forest.joblib']"
      ]
     },
     "execution_count": 12,
     "metadata": {},
     "output_type": "execute_result"
    }
   ],
   "source": [
    "from joblib import dump\n",
    "# Save the model to disk\n",
    "dump(clf, 'random_forest.joblib')"
   ]
  },
  {
   "attachments": {},
   "cell_type": "markdown",
   "metadata": {},
   "source": [
    "<font color='red'> 样本不平衡，后续可能需要改进 <font>"
   ]
  }
 ],
 "metadata": {
  "kernelspec": {
   "display_name": "ML",
   "language": "python",
   "name": "python3"
  },
  "language_info": {
   "codemirror_mode": {
    "name": "ipython",
    "version": 3
   },
   "file_extension": ".py",
   "mimetype": "text/x-python",
   "name": "python",
   "nbconvert_exporter": "python",
   "pygments_lexer": "ipython3",
   "version": "3.10.4"
  },
  "orig_nbformat": 4,
  "vscode": {
   "interpreter": {
    "hash": "5647ccd0a94c5d9e19902c8c8059eab735b05b78a2e6660931f4f4adacb2b01f"
   }
  }
 },
 "nbformat": 4,
 "nbformat_minor": 2
}
