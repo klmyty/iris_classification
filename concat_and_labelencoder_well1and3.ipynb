{
 "cells": [
  {
   "attachments": {},
   "cell_type": "markdown",
   "metadata": {},
   "source": [
    "# 合并井1井3"
   ]
  },
  {
   "cell_type": "code",
   "execution_count": 41,
   "metadata": {},
   "outputs": [],
   "source": [
    "import numpy as np\n",
    "import pandas as pd"
   ]
  },
  {
   "cell_type": "code",
   "execution_count": 42,
   "metadata": {},
   "outputs": [],
   "source": [
    "readpath = r'/home/klmyty/code/ML/data/溢流数据_clean/清洗后数据1_溢流.csv'\n",
    "df = pd.read_csv(readpath,encoding='GBK')"
   ]
  },
  {
   "cell_type": "code",
   "execution_count": 43,
   "metadata": {},
   "outputs": [
    {
     "data": {
      "text/plain": [
       "0.0    50581\n",
       "0.5    16438\n",
       "1.0     2304\n",
       "Name: 溢流, dtype: int64"
      ]
     },
     "execution_count": 43,
     "metadata": {},
     "output_type": "execute_result"
    }
   ],
   "source": [
    "df['溢流'].value_counts()"
   ]
  },
  {
   "cell_type": "code",
   "execution_count": 44,
   "metadata": {},
   "outputs": [],
   "source": [
    "readpath2 = r'/home/klmyty/code/ML/data/溢流数据_clean/清洗后数据3_溢流.csv'\n",
    "df2 = pd.read_csv(readpath2,encoding='GBK')"
   ]
  },
  {
   "cell_type": "code",
   "execution_count": 45,
   "metadata": {},
   "outputs": [
    {
     "name": "stdout",
     "output_type": "stream",
     "text": [
      "井1溢流标签\n",
      " 0.0    50581\n",
      "0.5    16438\n",
      "1.0     2304\n",
      "Name: 溢流, dtype: int64\n",
      "井3溢流标签\n",
      " 0    3961\n",
      "1    1880\n",
      "Name: 溢流, dtype: int64\n"
     ]
    }
   ],
   "source": [
    "print(\"井1溢流标签\\n\",df['溢流'].value_counts())\n",
    "print(\"井3溢流标签\\n\",df2['溢流'].value_counts())"
   ]
  },
  {
   "attachments": {},
   "cell_type": "markdown",
   "metadata": {},
   "source": [
    "## 井1为水侵，井3为气侵 故井1的1还为1，井3的1为2"
   ]
  },
  {
   "cell_type": "code",
   "execution_count": 46,
   "metadata": {},
   "outputs": [],
   "source": [
    "df2.loc[df2['溢流']==1,'溢流'] = 2"
   ]
  },
  {
   "attachments": {},
   "cell_type": "markdown",
   "metadata": {},
   "source": [
    "## 井1的0.5为1"
   ]
  },
  {
   "cell_type": "code",
   "execution_count": 47,
   "metadata": {},
   "outputs": [],
   "source": [
    "df.loc[df['溢流']==0.5,'溢流'] = 1"
   ]
  },
  {
   "cell_type": "code",
   "execution_count": 48,
   "metadata": {},
   "outputs": [
    {
     "name": "stdout",
     "output_type": "stream",
     "text": [
      "井1溢流标签\n",
      " 0.0    50581\n",
      "1.0    18742\n",
      "Name: 溢流, dtype: int64\n",
      "井3溢流标签\n",
      " 0    3961\n",
      "2    1880\n",
      "Name: 溢流, dtype: int64\n"
     ]
    }
   ],
   "source": [
    "print(\"井1溢流标签\\n\",df['溢流'].value_counts())\n",
    "print(\"井3溢流标签\\n\",df2['溢流'].value_counts())"
   ]
  },
  {
   "attachments": {},
   "cell_type": "markdown",
   "metadata": {},
   "source": [
    "## 合并井1井3并只保留最后所有井都有的数据，删除时间和工况"
   ]
  },
  {
   "cell_type": "code",
   "execution_count": 49,
   "metadata": {},
   "outputs": [],
   "source": [
    "data = pd.concat([df, df2], join=\"inner\")\n",
    "\n",
    "# Select the columns you want to keep\n",
    "data = data[['井深(8004) m', '迟到井深(8006) m', '大钩高度(8008) m', '全烃(8219) %', '入口温度(8106) DEG.C', '泵冲次1(8059) spm', '出口密度(8105) g/cm3', '套管压力(8019) MPa', '钻时(8020) min/m', '立管压力(8018) MPa', '钻压(8011) kN', '入口流量(8110) L/s', '出口温度(8107) DEG.C', '钻头位置(8005) m', '入口密度(8104) g/cm3', '扭矩(8013) kN.m', '大钩负荷(8010) kN', '总池体积(8112) m3', '溢流', '转盘转速(8012) RPM']]\n"
   ]
  },
  {
   "attachments": {},
   "cell_type": "markdown",
   "metadata": {},
   "source": [
    "## 保存合并好的井1井3数据"
   ]
  },
  {
   "cell_type": "code",
   "execution_count": 50,
   "metadata": {},
   "outputs": [],
   "source": [
    "data.to_csv('井1井3合并new.csv', index=False, mode='w', header=True,encoding='GBK')"
   ]
  },
  {
   "attachments": {},
   "cell_type": "markdown",
   "metadata": {},
   "source": [
    "# labelEncoder 编码"
   ]
  },
  {
   "cell_type": "code",
   "execution_count": 51,
   "metadata": {},
   "outputs": [
    {
     "data": {
      "text/html": [
       "<div>\n",
       "<style scoped>\n",
       "    .dataframe tbody tr th:only-of-type {\n",
       "        vertical-align: middle;\n",
       "    }\n",
       "\n",
       "    .dataframe tbody tr th {\n",
       "        vertical-align: top;\n",
       "    }\n",
       "\n",
       "    .dataframe thead th {\n",
       "        text-align: right;\n",
       "    }\n",
       "</style>\n",
       "<table border=\"1\" class=\"dataframe\">\n",
       "  <thead>\n",
       "    <tr style=\"text-align: right;\">\n",
       "      <th></th>\n",
       "      <th>井深(8004) m</th>\n",
       "      <th>迟到井深(8006) m</th>\n",
       "      <th>大钩高度(8008) m</th>\n",
       "      <th>全烃(8219) %</th>\n",
       "      <th>入口温度(8106) DEG.C</th>\n",
       "      <th>泵冲次1(8059) spm</th>\n",
       "      <th>出口密度(8105) g/cm3</th>\n",
       "      <th>套管压力(8019) MPa</th>\n",
       "      <th>钻时(8020) min/m</th>\n",
       "      <th>立管压力(8018) MPa</th>\n",
       "      <th>钻压(8011) kN</th>\n",
       "      <th>入口流量(8110) L/s</th>\n",
       "      <th>出口温度(8107) DEG.C</th>\n",
       "      <th>钻头位置(8005) m</th>\n",
       "      <th>入口密度(8104) g/cm3</th>\n",
       "      <th>扭矩(8013) kN.m</th>\n",
       "      <th>大钩负荷(8010) kN</th>\n",
       "      <th>总池体积(8112) m3</th>\n",
       "      <th>溢流</th>\n",
       "      <th>转盘转速(8012) RPM</th>\n",
       "    </tr>\n",
       "  </thead>\n",
       "  <tbody>\n",
       "    <tr>\n",
       "      <th>0</th>\n",
       "      <td>3023.54</td>\n",
       "      <td>3023.5</td>\n",
       "      <td>5.46742</td>\n",
       "      <td>0.0678</td>\n",
       "      <td>48.94150</td>\n",
       "      <td>0.0</td>\n",
       "      <td>1.87959</td>\n",
       "      <td>0.0</td>\n",
       "      <td>7.98587</td>\n",
       "      <td>0.0</td>\n",
       "      <td>0.000</td>\n",
       "      <td>0.0</td>\n",
       "      <td>38.27520</td>\n",
       "      <td>1719.02</td>\n",
       "      <td>2.03658</td>\n",
       "      <td>0.0</td>\n",
       "      <td>228.40900</td>\n",
       "      <td>102.26800</td>\n",
       "      <td>0</td>\n",
       "      <td>0.0</td>\n",
       "    </tr>\n",
       "    <tr>\n",
       "      <th>1</th>\n",
       "      <td>3023.54</td>\n",
       "      <td>3023.5</td>\n",
       "      <td>5.44833</td>\n",
       "      <td>0.0678</td>\n",
       "      <td>48.91951</td>\n",
       "      <td>0.0</td>\n",
       "      <td>1.87959</td>\n",
       "      <td>0.0</td>\n",
       "      <td>7.98587</td>\n",
       "      <td>0.0</td>\n",
       "      <td>0.000</td>\n",
       "      <td>0.0</td>\n",
       "      <td>38.26581</td>\n",
       "      <td>1719.02</td>\n",
       "      <td>2.03661</td>\n",
       "      <td>0.0</td>\n",
       "      <td>256.32600</td>\n",
       "      <td>102.34000</td>\n",
       "      <td>0</td>\n",
       "      <td>0.0</td>\n",
       "    </tr>\n",
       "    <tr>\n",
       "      <th>2</th>\n",
       "      <td>3023.54</td>\n",
       "      <td>3023.5</td>\n",
       "      <td>5.31942</td>\n",
       "      <td>0.0678</td>\n",
       "      <td>48.91951</td>\n",
       "      <td>0.0</td>\n",
       "      <td>1.88025</td>\n",
       "      <td>0.0</td>\n",
       "      <td>7.98587</td>\n",
       "      <td>0.0</td>\n",
       "      <td>0.000</td>\n",
       "      <td>0.0</td>\n",
       "      <td>38.26581</td>\n",
       "      <td>1719.02</td>\n",
       "      <td>2.03661</td>\n",
       "      <td>0.0</td>\n",
       "      <td>239.40600</td>\n",
       "      <td>102.60399</td>\n",
       "      <td>0</td>\n",
       "      <td>0.0</td>\n",
       "    </tr>\n",
       "    <tr>\n",
       "      <th>3</th>\n",
       "      <td>3023.54</td>\n",
       "      <td>3023.5</td>\n",
       "      <td>5.30988</td>\n",
       "      <td>0.0678</td>\n",
       "      <td>48.94150</td>\n",
       "      <td>0.0</td>\n",
       "      <td>1.88025</td>\n",
       "      <td>0.0</td>\n",
       "      <td>7.98587</td>\n",
       "      <td>0.0</td>\n",
       "      <td>0.000</td>\n",
       "      <td>0.0</td>\n",
       "      <td>38.27520</td>\n",
       "      <td>1719.02</td>\n",
       "      <td>2.03658</td>\n",
       "      <td>0.0</td>\n",
       "      <td>261.40100</td>\n",
       "      <td>102.43500</td>\n",
       "      <td>0</td>\n",
       "      <td>0.0</td>\n",
       "    </tr>\n",
       "    <tr>\n",
       "      <th>4</th>\n",
       "      <td>3023.54</td>\n",
       "      <td>3023.5</td>\n",
       "      <td>5.57726</td>\n",
       "      <td>0.0678</td>\n",
       "      <td>48.91951</td>\n",
       "      <td>0.0</td>\n",
       "      <td>1.88025</td>\n",
       "      <td>0.0</td>\n",
       "      <td>7.98587</td>\n",
       "      <td>0.0</td>\n",
       "      <td>203.975</td>\n",
       "      <td>0.0</td>\n",
       "      <td>38.26581</td>\n",
       "      <td>1719.02</td>\n",
       "      <td>2.03661</td>\n",
       "      <td>0.0</td>\n",
       "      <td>793.15399</td>\n",
       "      <td>102.59900</td>\n",
       "      <td>0</td>\n",
       "      <td>0.0</td>\n",
       "    </tr>\n",
       "  </tbody>\n",
       "</table>\n",
       "</div>"
      ],
      "text/plain": [
       "   井深(8004) m  迟到井深(8006) m  大钩高度(8008) m  全烃(8219) %  入口温度(8106) DEG.C  \\\n",
       "0     3023.54        3023.5       5.46742      0.0678          48.94150   \n",
       "1     3023.54        3023.5       5.44833      0.0678          48.91951   \n",
       "2     3023.54        3023.5       5.31942      0.0678          48.91951   \n",
       "3     3023.54        3023.5       5.30988      0.0678          48.94150   \n",
       "4     3023.54        3023.5       5.57726      0.0678          48.91951   \n",
       "\n",
       "   泵冲次1(8059) spm  出口密度(8105) g/cm3  套管压力(8019) MPa  钻时(8020) min/m  \\\n",
       "0             0.0           1.87959             0.0         7.98587   \n",
       "1             0.0           1.87959             0.0         7.98587   \n",
       "2             0.0           1.88025             0.0         7.98587   \n",
       "3             0.0           1.88025             0.0         7.98587   \n",
       "4             0.0           1.88025             0.0         7.98587   \n",
       "\n",
       "   立管压力(8018) MPa  钻压(8011) kN  入口流量(8110) L/s  出口温度(8107) DEG.C  \\\n",
       "0             0.0        0.000             0.0          38.27520   \n",
       "1             0.0        0.000             0.0          38.26581   \n",
       "2             0.0        0.000             0.0          38.26581   \n",
       "3             0.0        0.000             0.0          38.27520   \n",
       "4             0.0      203.975             0.0          38.26581   \n",
       "\n",
       "   钻头位置(8005) m  入口密度(8104) g/cm3  扭矩(8013) kN.m  大钩负荷(8010) kN  \\\n",
       "0       1719.02           2.03658            0.0      228.40900   \n",
       "1       1719.02           2.03661            0.0      256.32600   \n",
       "2       1719.02           2.03661            0.0      239.40600   \n",
       "3       1719.02           2.03658            0.0      261.40100   \n",
       "4       1719.02           2.03661            0.0      793.15399   \n",
       "\n",
       "   总池体积(8112) m3  溢流  转盘转速(8012) RPM  \n",
       "0      102.26800   0             0.0  \n",
       "1      102.34000   0             0.0  \n",
       "2      102.60399   0             0.0  \n",
       "3      102.43500   0             0.0  \n",
       "4      102.59900   0             0.0  "
      ]
     },
     "execution_count": 51,
     "metadata": {},
     "output_type": "execute_result"
    }
   ],
   "source": [
    "from sklearn.preprocessing import LabelEncoder\n",
    "le = LabelEncoder()\n",
    "data['溢流'] = le.fit_transform(data['溢流'])\n",
    "# data['工况'] = le.fit_transform(data['工况'])\n",
    "data.head()"
   ]
  },
  {
   "cell_type": "code",
   "execution_count": 52,
   "metadata": {},
   "outputs": [
    {
     "data": {
      "text/plain": [
       "0    54542\n",
       "1    18742\n",
       "2     1880\n",
       "Name: 溢流, dtype: int64"
      ]
     },
     "execution_count": 52,
     "metadata": {},
     "output_type": "execute_result"
    }
   ],
   "source": [
    "data['溢流'].value_counts()"
   ]
  },
  {
   "cell_type": "code",
   "execution_count": 53,
   "metadata": {},
   "outputs": [],
   "source": [
    "data.to_csv('井1井3合并_encodedwithLabelEncoder_new1.csv', index=False, mode='w', header=True,encoding='GBK')"
   ]
  }
 ],
 "metadata": {
  "kernelspec": {
   "display_name": "ML",
   "language": "python",
   "name": "python3"
  },
  "language_info": {
   "codemirror_mode": {
    "name": "ipython",
    "version": 3
   },
   "file_extension": ".py",
   "mimetype": "text/x-python",
   "name": "python",
   "nbconvert_exporter": "python",
   "pygments_lexer": "ipython3",
   "version": "3.10.4"
  },
  "orig_nbformat": 4,
  "vscode": {
   "interpreter": {
    "hash": "5647ccd0a94c5d9e19902c8c8059eab735b05b78a2e6660931f4f4adacb2b01f"
   }
  }
 },
 "nbformat": 4,
 "nbformat_minor": 2
}
