{
 "cells": [
  {
   "attachments": {},
   "cell_type": "markdown",
   "metadata": {},
   "source": [
    "# SVM模型"
   ]
  },
  {
   "attachments": {},
   "cell_type": "markdown",
   "metadata": {},
   "source": [
    "## 读取数据并划分训练集"
   ]
  },
  {
   "cell_type": "code",
   "execution_count": 1,
   "metadata": {},
   "outputs": [
    {
     "data": {
      "text/html": [
       "<div>\n",
       "<style scoped>\n",
       "    .dataframe tbody tr th:only-of-type {\n",
       "        vertical-align: middle;\n",
       "    }\n",
       "\n",
       "    .dataframe tbody tr th {\n",
       "        vertical-align: top;\n",
       "    }\n",
       "\n",
       "    .dataframe thead th {\n",
       "        text-align: right;\n",
       "    }\n",
       "</style>\n",
       "<table border=\"1\" class=\"dataframe\">\n",
       "  <thead>\n",
       "    <tr style=\"text-align: right;\">\n",
       "      <th></th>\n",
       "      <th>井深(8004) m</th>\n",
       "      <th>迟到井深(8006) m</th>\n",
       "      <th>大钩高度(8008) m</th>\n",
       "      <th>全烃(8219) %</th>\n",
       "      <th>入口温度(8106) DEG.C</th>\n",
       "      <th>泵冲次1(8059) spm</th>\n",
       "      <th>出口密度(8105) g/cm3</th>\n",
       "      <th>套管压力(8019) MPa</th>\n",
       "      <th>钻时(8020) min/m</th>\n",
       "      <th>立管压力(8018) MPa</th>\n",
       "      <th>钻压(8011) kN</th>\n",
       "      <th>入口流量(8110) L/s</th>\n",
       "      <th>出口温度(8107) DEG.C</th>\n",
       "      <th>钻头位置(8005) m</th>\n",
       "      <th>入口密度(8104) g/cm3</th>\n",
       "      <th>扭矩(8013) kN.m</th>\n",
       "      <th>大钩负荷(8010) kN</th>\n",
       "      <th>总池体积(8112) m3</th>\n",
       "      <th>溢流</th>\n",
       "      <th>转盘转速(8012) RPM</th>\n",
       "    </tr>\n",
       "  </thead>\n",
       "  <tbody>\n",
       "    <tr>\n",
       "      <th>0</th>\n",
       "      <td>3023.54</td>\n",
       "      <td>3023.5</td>\n",
       "      <td>5.46742</td>\n",
       "      <td>0.0678</td>\n",
       "      <td>48.94150</td>\n",
       "      <td>0.0</td>\n",
       "      <td>1.87959</td>\n",
       "      <td>0.0</td>\n",
       "      <td>7.98587</td>\n",
       "      <td>0.0</td>\n",
       "      <td>0.000</td>\n",
       "      <td>0.0</td>\n",
       "      <td>38.27520</td>\n",
       "      <td>1719.02</td>\n",
       "      <td>2.03658</td>\n",
       "      <td>0.0</td>\n",
       "      <td>228.40900</td>\n",
       "      <td>102.26800</td>\n",
       "      <td>0</td>\n",
       "      <td>0.0</td>\n",
       "    </tr>\n",
       "    <tr>\n",
       "      <th>1</th>\n",
       "      <td>3023.54</td>\n",
       "      <td>3023.5</td>\n",
       "      <td>5.44833</td>\n",
       "      <td>0.0678</td>\n",
       "      <td>48.91951</td>\n",
       "      <td>0.0</td>\n",
       "      <td>1.87959</td>\n",
       "      <td>0.0</td>\n",
       "      <td>7.98587</td>\n",
       "      <td>0.0</td>\n",
       "      <td>0.000</td>\n",
       "      <td>0.0</td>\n",
       "      <td>38.26581</td>\n",
       "      <td>1719.02</td>\n",
       "      <td>2.03661</td>\n",
       "      <td>0.0</td>\n",
       "      <td>256.32600</td>\n",
       "      <td>102.34000</td>\n",
       "      <td>0</td>\n",
       "      <td>0.0</td>\n",
       "    </tr>\n",
       "    <tr>\n",
       "      <th>2</th>\n",
       "      <td>3023.54</td>\n",
       "      <td>3023.5</td>\n",
       "      <td>5.31942</td>\n",
       "      <td>0.0678</td>\n",
       "      <td>48.91951</td>\n",
       "      <td>0.0</td>\n",
       "      <td>1.88025</td>\n",
       "      <td>0.0</td>\n",
       "      <td>7.98587</td>\n",
       "      <td>0.0</td>\n",
       "      <td>0.000</td>\n",
       "      <td>0.0</td>\n",
       "      <td>38.26581</td>\n",
       "      <td>1719.02</td>\n",
       "      <td>2.03661</td>\n",
       "      <td>0.0</td>\n",
       "      <td>239.40600</td>\n",
       "      <td>102.60399</td>\n",
       "      <td>0</td>\n",
       "      <td>0.0</td>\n",
       "    </tr>\n",
       "    <tr>\n",
       "      <th>3</th>\n",
       "      <td>3023.54</td>\n",
       "      <td>3023.5</td>\n",
       "      <td>5.30988</td>\n",
       "      <td>0.0678</td>\n",
       "      <td>48.94150</td>\n",
       "      <td>0.0</td>\n",
       "      <td>1.88025</td>\n",
       "      <td>0.0</td>\n",
       "      <td>7.98587</td>\n",
       "      <td>0.0</td>\n",
       "      <td>0.000</td>\n",
       "      <td>0.0</td>\n",
       "      <td>38.27520</td>\n",
       "      <td>1719.02</td>\n",
       "      <td>2.03658</td>\n",
       "      <td>0.0</td>\n",
       "      <td>261.40100</td>\n",
       "      <td>102.43500</td>\n",
       "      <td>0</td>\n",
       "      <td>0.0</td>\n",
       "    </tr>\n",
       "    <tr>\n",
       "      <th>4</th>\n",
       "      <td>3023.54</td>\n",
       "      <td>3023.5</td>\n",
       "      <td>5.57726</td>\n",
       "      <td>0.0678</td>\n",
       "      <td>48.91951</td>\n",
       "      <td>0.0</td>\n",
       "      <td>1.88025</td>\n",
       "      <td>0.0</td>\n",
       "      <td>7.98587</td>\n",
       "      <td>0.0</td>\n",
       "      <td>203.975</td>\n",
       "      <td>0.0</td>\n",
       "      <td>38.26581</td>\n",
       "      <td>1719.02</td>\n",
       "      <td>2.03661</td>\n",
       "      <td>0.0</td>\n",
       "      <td>793.15399</td>\n",
       "      <td>102.59900</td>\n",
       "      <td>0</td>\n",
       "      <td>0.0</td>\n",
       "    </tr>\n",
       "  </tbody>\n",
       "</table>\n",
       "</div>"
      ],
      "text/plain": [
       "   井深(8004) m  迟到井深(8006) m  大钩高度(8008) m  全烃(8219) %  入口温度(8106) DEG.C  \\\n",
       "0     3023.54        3023.5       5.46742      0.0678          48.94150   \n",
       "1     3023.54        3023.5       5.44833      0.0678          48.91951   \n",
       "2     3023.54        3023.5       5.31942      0.0678          48.91951   \n",
       "3     3023.54        3023.5       5.30988      0.0678          48.94150   \n",
       "4     3023.54        3023.5       5.57726      0.0678          48.91951   \n",
       "\n",
       "   泵冲次1(8059) spm  出口密度(8105) g/cm3  套管压力(8019) MPa  钻时(8020) min/m  \\\n",
       "0             0.0           1.87959             0.0         7.98587   \n",
       "1             0.0           1.87959             0.0         7.98587   \n",
       "2             0.0           1.88025             0.0         7.98587   \n",
       "3             0.0           1.88025             0.0         7.98587   \n",
       "4             0.0           1.88025             0.0         7.98587   \n",
       "\n",
       "   立管压力(8018) MPa  钻压(8011) kN  入口流量(8110) L/s  出口温度(8107) DEG.C  \\\n",
       "0             0.0        0.000             0.0          38.27520   \n",
       "1             0.0        0.000             0.0          38.26581   \n",
       "2             0.0        0.000             0.0          38.26581   \n",
       "3             0.0        0.000             0.0          38.27520   \n",
       "4             0.0      203.975             0.0          38.26581   \n",
       "\n",
       "   钻头位置(8005) m  入口密度(8104) g/cm3  扭矩(8013) kN.m  大钩负荷(8010) kN  \\\n",
       "0       1719.02           2.03658            0.0      228.40900   \n",
       "1       1719.02           2.03661            0.0      256.32600   \n",
       "2       1719.02           2.03661            0.0      239.40600   \n",
       "3       1719.02           2.03658            0.0      261.40100   \n",
       "4       1719.02           2.03661            0.0      793.15399   \n",
       "\n",
       "   总池体积(8112) m3  溢流  转盘转速(8012) RPM  \n",
       "0      102.26800   0             0.0  \n",
       "1      102.34000   0             0.0  \n",
       "2      102.60399   0             0.0  \n",
       "3      102.43500   0             0.0  \n",
       "4      102.59900   0             0.0  "
      ]
     },
     "execution_count": 1,
     "metadata": {},
     "output_type": "execute_result"
    }
   ],
   "source": [
    "import numpy as np\n",
    "import pandas as pd\n",
    "readpath = r'井1井3合并_encodedwithLabelEncoder_new1.csv'\n",
    "data = pd.read_csv(readpath,encoding='GBK')\n",
    "data.head()"
   ]
  },
  {
   "cell_type": "code",
   "execution_count": 2,
   "metadata": {},
   "outputs": [],
   "source": [
    "data_label = ['溢流']"
   ]
  },
  {
   "cell_type": "code",
   "execution_count": 3,
   "metadata": {},
   "outputs": [],
   "source": [
    "X = data.drop(data_label, axis=1)\n",
    "y = data[data_label]\n",
    "from sklearn.model_selection import train_test_split\n",
    "X_train,X_test,y_train,y_test = train_test_split(X,y, random_state=42,stratify = y)"
   ]
  },
  {
   "attachments": {},
   "cell_type": "markdown",
   "metadata": {},
   "source": [
    "## 建立SVM模型"
   ]
  },
  {
   "cell_type": "code",
   "execution_count": 6,
   "metadata": {},
   "outputs": [
    {
     "name": "stderr",
     "output_type": "stream",
     "text": [
      "/home/klmyty/code/ML/lib/python3.10/site-packages/sklearn/utils/validation.py:1141: DataConversionWarning: A column-vector y was passed when a 1d array was expected. Please change the shape of y to (n_samples, ), for example using ravel().\n",
      "  y = column_or_1d(y, warn=True)\n"
     ]
    }
   ],
   "source": [
    "from sklearn import svm\n",
    "\n",
    "# Train the SVM model 太慢了，放弃了\n",
    "clf2 = svm.SVC(kernel='linear', C=1, random_state=0)\n",
    "clf2.fit(X_train, y_train)"
   ]
  },
  {
   "cell_type": "code",
   "execution_count": 4,
   "metadata": {},
   "outputs": [
    {
     "name": "stderr",
     "output_type": "stream",
     "text": [
      "/home/klmyty/code/ML/lib/python3.10/site-packages/sklearn/utils/validation.py:1141: DataConversionWarning: A column-vector y was passed when a 1d array was expected. Please change the shape of y to (n_samples, ), for example using ravel().\n",
      "  y = column_or_1d(y, warn=True)\n",
      "/home/klmyty/code/ML/lib/python3.10/site-packages/sklearn/svm/_base.py:1244: ConvergenceWarning: Liblinear failed to converge, increase the number of iterations.\n",
      "  warnings.warn(\n"
     ]
    },
    {
     "data": {
      "text/html": [
       "<style>#sk-container-id-1 {color: black;background-color: white;}#sk-container-id-1 pre{padding: 0;}#sk-container-id-1 div.sk-toggleable {background-color: white;}#sk-container-id-1 label.sk-toggleable__label {cursor: pointer;display: block;width: 100%;margin-bottom: 0;padding: 0.3em;box-sizing: border-box;text-align: center;}#sk-container-id-1 label.sk-toggleable__label-arrow:before {content: \"▸\";float: left;margin-right: 0.25em;color: #696969;}#sk-container-id-1 label.sk-toggleable__label-arrow:hover:before {color: black;}#sk-container-id-1 div.sk-estimator:hover label.sk-toggleable__label-arrow:before {color: black;}#sk-container-id-1 div.sk-toggleable__content {max-height: 0;max-width: 0;overflow: hidden;text-align: left;background-color: #f0f8ff;}#sk-container-id-1 div.sk-toggleable__content pre {margin: 0.2em;color: black;border-radius: 0.25em;background-color: #f0f8ff;}#sk-container-id-1 input.sk-toggleable__control:checked~div.sk-toggleable__content {max-height: 200px;max-width: 100%;overflow: auto;}#sk-container-id-1 input.sk-toggleable__control:checked~label.sk-toggleable__label-arrow:before {content: \"▾\";}#sk-container-id-1 div.sk-estimator input.sk-toggleable__control:checked~label.sk-toggleable__label {background-color: #d4ebff;}#sk-container-id-1 div.sk-label input.sk-toggleable__control:checked~label.sk-toggleable__label {background-color: #d4ebff;}#sk-container-id-1 input.sk-hidden--visually {border: 0;clip: rect(1px 1px 1px 1px);clip: rect(1px, 1px, 1px, 1px);height: 1px;margin: -1px;overflow: hidden;padding: 0;position: absolute;width: 1px;}#sk-container-id-1 div.sk-estimator {font-family: monospace;background-color: #f0f8ff;border: 1px dotted black;border-radius: 0.25em;box-sizing: border-box;margin-bottom: 0.5em;}#sk-container-id-1 div.sk-estimator:hover {background-color: #d4ebff;}#sk-container-id-1 div.sk-parallel-item::after {content: \"\";width: 100%;border-bottom: 1px solid gray;flex-grow: 1;}#sk-container-id-1 div.sk-label:hover label.sk-toggleable__label {background-color: #d4ebff;}#sk-container-id-1 div.sk-serial::before {content: \"\";position: absolute;border-left: 1px solid gray;box-sizing: border-box;top: 0;bottom: 0;left: 50%;z-index: 0;}#sk-container-id-1 div.sk-serial {display: flex;flex-direction: column;align-items: center;background-color: white;padding-right: 0.2em;padding-left: 0.2em;position: relative;}#sk-container-id-1 div.sk-item {position: relative;z-index: 1;}#sk-container-id-1 div.sk-parallel {display: flex;align-items: stretch;justify-content: center;background-color: white;position: relative;}#sk-container-id-1 div.sk-item::before, #sk-container-id-1 div.sk-parallel-item::before {content: \"\";position: absolute;border-left: 1px solid gray;box-sizing: border-box;top: 0;bottom: 0;left: 50%;z-index: -1;}#sk-container-id-1 div.sk-parallel-item {display: flex;flex-direction: column;z-index: 1;position: relative;background-color: white;}#sk-container-id-1 div.sk-parallel-item:first-child::after {align-self: flex-end;width: 50%;}#sk-container-id-1 div.sk-parallel-item:last-child::after {align-self: flex-start;width: 50%;}#sk-container-id-1 div.sk-parallel-item:only-child::after {width: 0;}#sk-container-id-1 div.sk-dashed-wrapped {border: 1px dashed gray;margin: 0 0.4em 0.5em 0.4em;box-sizing: border-box;padding-bottom: 0.4em;background-color: white;}#sk-container-id-1 div.sk-label label {font-family: monospace;font-weight: bold;display: inline-block;line-height: 1.2em;}#sk-container-id-1 div.sk-label-container {text-align: center;}#sk-container-id-1 div.sk-container {/* jupyter's `normalize.less` sets `[hidden] { display: none; }` but bootstrap.min.css set `[hidden] { display: none !important; }` so we also need the `!important` here to be able to override the default hidden behavior on the sphinx rendered scikit-learn.org. See: https://github.com/scikit-learn/scikit-learn/issues/21755 */display: inline-block !important;position: relative;}#sk-container-id-1 div.sk-text-repr-fallback {display: none;}</style><div id=\"sk-container-id-1\" class=\"sk-top-container\"><div class=\"sk-text-repr-fallback\"><pre>LinearSVC(random_state=0)</pre><b>In a Jupyter environment, please rerun this cell to show the HTML representation or trust the notebook. <br />On GitHub, the HTML representation is unable to render, please try loading this page with nbviewer.org.</b></div><div class=\"sk-container\" hidden><div class=\"sk-item\"><div class=\"sk-estimator sk-toggleable\"><input class=\"sk-toggleable__control sk-hidden--visually\" id=\"sk-estimator-id-1\" type=\"checkbox\" checked><label for=\"sk-estimator-id-1\" class=\"sk-toggleable__label sk-toggleable__label-arrow\">LinearSVC</label><div class=\"sk-toggleable__content\"><pre>LinearSVC(random_state=0)</pre></div></div></div></div></div>"
      ],
      "text/plain": [
       "LinearSVC(random_state=0)"
      ]
     },
     "execution_count": 4,
     "metadata": {},
     "output_type": "execute_result"
    }
   ],
   "source": [
    "from sklearn.svm import LinearSVC\n",
    "\n",
    "clf = LinearSVC(random_state=0)\n",
    "clf.fit(X_train, y_train)"
   ]
  },
  {
   "cell_type": "code",
   "execution_count": null,
   "metadata": {},
   "outputs": [],
   "source": [
    "from sklearn.linear_model import SGDClassifier\n",
    "\n",
    "clf3 = SGDClassifier(loss=\"hinge\", random_state=0)\n",
    "clf3.fit(X_train, y_train)\n"
   ]
  },
  {
   "attachments": {},
   "cell_type": "markdown",
   "metadata": {},
   "source": [
    "## 模型评估"
   ]
  },
  {
   "cell_type": "code",
   "execution_count": 5,
   "metadata": {},
   "outputs": [
    {
     "name": "stdout",
     "output_type": "stream",
     "text": [
      "Accuracy: 0.6843701772124954\n"
     ]
    }
   ],
   "source": [
    "# Evaluate the model on the test data\n",
    "accuracy = clf.score(X_test, y_test)\n",
    "print(\"Accuracy:\", accuracy)"
   ]
  },
  {
   "cell_type": "code",
   "execution_count": 6,
   "metadata": {},
   "outputs": [],
   "source": [
    "y_pred = clf.predict(X_test)"
   ]
  },
  {
   "cell_type": "code",
   "execution_count": 7,
   "metadata": {},
   "outputs": [
    {
     "name": "stdout",
     "output_type": "stream",
     "text": [
      "              precision    recall  f1-score   support\n",
      "\n",
      "           0       0.92      0.77      0.84     13636\n",
      "           1       0.99      0.50      0.66      4685\n",
      "           2       0.00      0.00      0.00       470\n",
      "\n",
      "    accuracy                           0.68     18791\n",
      "   macro avg       0.64      0.42      0.50     18791\n",
      "weighted avg       0.92      0.68      0.78     18791\n",
      "\n"
     ]
    }
   ],
   "source": [
    "from sklearn.metrics import classification_report\n",
    "print(classification_report(y_test, y_pred))"
   ]
  },
  {
   "attachments": {},
   "cell_type": "markdown",
   "metadata": {},
   "source": [
    "## 保存模型"
   ]
  },
  {
   "cell_type": "code",
   "execution_count": 10,
   "metadata": {},
   "outputs": [
    {
     "data": {
      "text/plain": [
       "['LinearSVC.joblib']"
      ]
     },
     "execution_count": 10,
     "metadata": {},
     "output_type": "execute_result"
    }
   ],
   "source": [
    "from joblib import dump\n",
    "# Save the model to disk\n",
    "dump(clf, 'LinearSVC.joblib')"
   ]
  }
 ],
 "metadata": {
  "kernelspec": {
   "display_name": "ML",
   "language": "python",
   "name": "python3"
  },
  "language_info": {
   "codemirror_mode": {
    "name": "ipython",
    "version": 3
   },
   "file_extension": ".py",
   "mimetype": "text/x-python",
   "name": "python",
   "nbconvert_exporter": "python",
   "pygments_lexer": "ipython3",
   "version": "3.10.4"
  },
  "orig_nbformat": 4,
  "vscode": {
   "interpreter": {
    "hash": "5647ccd0a94c5d9e19902c8c8059eab735b05b78a2e6660931f4f4adacb2b01f"
   }
  }
 },
 "nbformat": 4,
 "nbformat_minor": 2
}
