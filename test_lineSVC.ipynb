{
 "cells": [
  {
   "attachments": {},
   "cell_type": "markdown",
   "metadata": {},
   "source": [
    "## 使用其他井数据进行测试"
   ]
  },
  {
   "cell_type": "code",
   "execution_count": 2,
   "metadata": {},
   "outputs": [
    {
     "data": {
      "text/html": [
       "<div>\n",
       "<style scoped>\n",
       "    .dataframe tbody tr th:only-of-type {\n",
       "        vertical-align: middle;\n",
       "    }\n",
       "\n",
       "    .dataframe tbody tr th {\n",
       "        vertical-align: top;\n",
       "    }\n",
       "\n",
       "    .dataframe thead th {\n",
       "        text-align: right;\n",
       "    }\n",
       "</style>\n",
       "<table border=\"1\" class=\"dataframe\">\n",
       "  <thead>\n",
       "    <tr style=\"text-align: right;\">\n",
       "      <th></th>\n",
       "      <th>时间</th>\n",
       "      <th>井深(8004) m</th>\n",
       "      <th>钻头位置(8005) m</th>\n",
       "      <th>迟到井深(8006) m</th>\n",
       "      <th>迟到时间(8007) min</th>\n",
       "      <th>大钩高度(8008) m</th>\n",
       "      <th>大钩速度(8009) m/s</th>\n",
       "      <th>大钩负荷(8010) kN</th>\n",
       "      <th>钻压(8011) kN</th>\n",
       "      <th>转盘转速(8012) RPM</th>\n",
       "      <th>...</th>\n",
       "      <th>丙烷(8214) %</th>\n",
       "      <th>正丁烷(8215) %</th>\n",
       "      <th>异丁烷(8216) %</th>\n",
       "      <th>异戊烷(8218) %</th>\n",
       "      <th>全烃(8219) %</th>\n",
       "      <th>总池体积差</th>\n",
       "      <th>累计总池体积差</th>\n",
       "      <th>工况</th>\n",
       "      <th>时间.1</th>\n",
       "      <th>溢流</th>\n",
       "    </tr>\n",
       "  </thead>\n",
       "  <tbody>\n",
       "    <tr>\n",
       "      <th>0</th>\n",
       "      <td>2020/5/2 8:00</td>\n",
       "      <td>2357.1</td>\n",
       "      <td>2354.62</td>\n",
       "      <td>2350.01</td>\n",
       "      <td>50.63</td>\n",
       "      <td>6.98</td>\n",
       "      <td>0.0</td>\n",
       "      <td>991.20999</td>\n",
       "      <td>0.0</td>\n",
       "      <td>54.56000</td>\n",
       "      <td>...</td>\n",
       "      <td>0.02001</td>\n",
       "      <td>0</td>\n",
       "      <td>0</td>\n",
       "      <td>0</td>\n",
       "      <td>1.05</td>\n",
       "      <td>0.00000</td>\n",
       "      <td>0.00000</td>\n",
       "      <td>倒划眼</td>\n",
       "      <td>2020/5/2 8:00</td>\n",
       "      <td>0</td>\n",
       "    </tr>\n",
       "    <tr>\n",
       "      <th>1</th>\n",
       "      <td>2020/5/2 8:00</td>\n",
       "      <td>2357.1</td>\n",
       "      <td>2354.62</td>\n",
       "      <td>2350.01</td>\n",
       "      <td>51.27</td>\n",
       "      <td>6.98</td>\n",
       "      <td>0.0</td>\n",
       "      <td>995.31999</td>\n",
       "      <td>0.0</td>\n",
       "      <td>54.59000</td>\n",
       "      <td>...</td>\n",
       "      <td>0.02001</td>\n",
       "      <td>0</td>\n",
       "      <td>0</td>\n",
       "      <td>0</td>\n",
       "      <td>1.05</td>\n",
       "      <td>0.03999</td>\n",
       "      <td>0.00000</td>\n",
       "      <td>倒划眼</td>\n",
       "      <td>2020/5/2 8:00</td>\n",
       "      <td>0</td>\n",
       "    </tr>\n",
       "    <tr>\n",
       "      <th>2</th>\n",
       "      <td>2020/5/2 8:00</td>\n",
       "      <td>2357.1</td>\n",
       "      <td>2354.62</td>\n",
       "      <td>2350.01</td>\n",
       "      <td>51.52</td>\n",
       "      <td>6.98</td>\n",
       "      <td>0.0</td>\n",
       "      <td>998.00998</td>\n",
       "      <td>0.0</td>\n",
       "      <td>54.95999</td>\n",
       "      <td>...</td>\n",
       "      <td>0.02001</td>\n",
       "      <td>0</td>\n",
       "      <td>0</td>\n",
       "      <td>0</td>\n",
       "      <td>1.05</td>\n",
       "      <td>-0.01999</td>\n",
       "      <td>0.03999</td>\n",
       "      <td>倒划眼</td>\n",
       "      <td>2020/5/2 8:00</td>\n",
       "      <td>0</td>\n",
       "    </tr>\n",
       "    <tr>\n",
       "      <th>3</th>\n",
       "      <td>2020/5/2 8:00</td>\n",
       "      <td>2357.1</td>\n",
       "      <td>2354.62</td>\n",
       "      <td>2350.01</td>\n",
       "      <td>51.17</td>\n",
       "      <td>6.98</td>\n",
       "      <td>0.0</td>\n",
       "      <td>996.30998</td>\n",
       "      <td>0.0</td>\n",
       "      <td>55.22998</td>\n",
       "      <td>...</td>\n",
       "      <td>0.02001</td>\n",
       "      <td>0</td>\n",
       "      <td>0</td>\n",
       "      <td>0</td>\n",
       "      <td>1.04</td>\n",
       "      <td>-0.03000</td>\n",
       "      <td>0.02000</td>\n",
       "      <td>倒划眼</td>\n",
       "      <td>2020/5/2 8:00</td>\n",
       "      <td>0</td>\n",
       "    </tr>\n",
       "    <tr>\n",
       "      <th>4</th>\n",
       "      <td>2020/5/2 8:00</td>\n",
       "      <td>2357.1</td>\n",
       "      <td>2354.62</td>\n",
       "      <td>2350.01</td>\n",
       "      <td>50.68</td>\n",
       "      <td>6.98</td>\n",
       "      <td>0.0</td>\n",
       "      <td>996.16999</td>\n",
       "      <td>0.0</td>\n",
       "      <td>55.08999</td>\n",
       "      <td>...</td>\n",
       "      <td>0.02001</td>\n",
       "      <td>0</td>\n",
       "      <td>0</td>\n",
       "      <td>0</td>\n",
       "      <td>1.04</td>\n",
       "      <td>0.03000</td>\n",
       "      <td>-0.01000</td>\n",
       "      <td>倒划眼</td>\n",
       "      <td>2020/5/2 8:00</td>\n",
       "      <td>0</td>\n",
       "    </tr>\n",
       "  </tbody>\n",
       "</table>\n",
       "<p>5 rows × 56 columns</p>\n",
       "</div>"
      ],
      "text/plain": [
       "              时间  井深(8004) m  钻头位置(8005) m  迟到井深(8006) m  迟到时间(8007) min  \\\n",
       "0  2020/5/2 8:00      2357.1       2354.62       2350.01           50.63   \n",
       "1  2020/5/2 8:00      2357.1       2354.62       2350.01           51.27   \n",
       "2  2020/5/2 8:00      2357.1       2354.62       2350.01           51.52   \n",
       "3  2020/5/2 8:00      2357.1       2354.62       2350.01           51.17   \n",
       "4  2020/5/2 8:00      2357.1       2354.62       2350.01           50.68   \n",
       "\n",
       "   大钩高度(8008) m  大钩速度(8009) m/s  大钩负荷(8010) kN  钻压(8011) kN  转盘转速(8012) RPM  \\\n",
       "0          6.98             0.0      991.20999          0.0        54.56000   \n",
       "1          6.98             0.0      995.31999          0.0        54.59000   \n",
       "2          6.98             0.0      998.00998          0.0        54.95999   \n",
       "3          6.98             0.0      996.30998          0.0        55.22998   \n",
       "4          6.98             0.0      996.16999          0.0        55.08999   \n",
       "\n",
       "   ...  丙烷(8214) %  正丁烷(8215) %  异丁烷(8216) %  异戊烷(8218) %  全烃(8219) %  \\\n",
       "0  ...     0.02001            0            0            0        1.05   \n",
       "1  ...     0.02001            0            0            0        1.05   \n",
       "2  ...     0.02001            0            0            0        1.05   \n",
       "3  ...     0.02001            0            0            0        1.04   \n",
       "4  ...     0.02001            0            0            0        1.04   \n",
       "\n",
       "     总池体积差  累计总池体积差   工况           时间.1  溢流  \n",
       "0  0.00000  0.00000  倒划眼  2020/5/2 8:00   0  \n",
       "1  0.03999  0.00000  倒划眼  2020/5/2 8:00   0  \n",
       "2 -0.01999  0.03999  倒划眼  2020/5/2 8:00   0  \n",
       "3 -0.03000  0.02000  倒划眼  2020/5/2 8:00   0  \n",
       "4  0.03000 -0.01000  倒划眼  2020/5/2 8:00   0  \n",
       "\n",
       "[5 rows x 56 columns]"
      ]
     },
     "execution_count": 2,
     "metadata": {},
     "output_type": "execute_result"
    }
   ],
   "source": [
    "import numpy as np\n",
    "import pandas as pd\n",
    "readpath = r'/home/klmyty/code/ML/data/溢流数据_clean/清洗后数据13_溢流.csv'\n",
    "data = pd.read_csv(readpath,encoding='GBK')\n",
    "data.head()"
   ]
  },
  {
   "cell_type": "code",
   "execution_count": 3,
   "metadata": {},
   "outputs": [],
   "source": [
    "data = data[['井深(8004) m', '迟到井深(8006) m', '大钩高度(8008) m', '全烃(8219) %', '入口温度(8106) DEG.C', '泵冲次1(8059) spm', '出口密度(8105) g/cm3', '套管压力(8019) MPa', '钻时(8020) min/m', '立管压力(8018) MPa', '钻压(8011) kN', '入口流量(8110) L/s', '出口温度(8107) DEG.C', '钻头位置(8005) m', '入口密度(8104) g/cm3', '扭矩(8013) kN.m', '大钩负荷(8010) kN', '总池体积(8112) m3', '溢流', '转盘转速(8012) RPM']]"
   ]
  },
  {
   "attachments": {},
   "cell_type": "markdown",
   "metadata": {},
   "source": [
    "## 使用labelencoder"
   ]
  },
  {
   "cell_type": "code",
   "execution_count": 4,
   "metadata": {},
   "outputs": [
    {
     "name": "stderr",
     "output_type": "stream",
     "text": [
      "/tmp/ipykernel_1384/1714926672.py:3: UserWarning: Pandas doesn't allow columns to be created via a new attribute name - see https://pandas.pydata.org/pandas-docs/stable/indexing.html#attribute-access\n",
      "  data.data_label = le.fit_transform(data['溢流'])\n"
     ]
    },
    {
     "data": {
      "text/html": [
       "<div>\n",
       "<style scoped>\n",
       "    .dataframe tbody tr th:only-of-type {\n",
       "        vertical-align: middle;\n",
       "    }\n",
       "\n",
       "    .dataframe tbody tr th {\n",
       "        vertical-align: top;\n",
       "    }\n",
       "\n",
       "    .dataframe thead th {\n",
       "        text-align: right;\n",
       "    }\n",
       "</style>\n",
       "<table border=\"1\" class=\"dataframe\">\n",
       "  <thead>\n",
       "    <tr style=\"text-align: right;\">\n",
       "      <th></th>\n",
       "      <th>井深(8004) m</th>\n",
       "      <th>迟到井深(8006) m</th>\n",
       "      <th>大钩高度(8008) m</th>\n",
       "      <th>全烃(8219) %</th>\n",
       "      <th>入口温度(8106) DEG.C</th>\n",
       "      <th>泵冲次1(8059) spm</th>\n",
       "      <th>出口密度(8105) g/cm3</th>\n",
       "      <th>套管压力(8019) MPa</th>\n",
       "      <th>钻时(8020) min/m</th>\n",
       "      <th>立管压力(8018) MPa</th>\n",
       "      <th>钻压(8011) kN</th>\n",
       "      <th>入口流量(8110) L/s</th>\n",
       "      <th>出口温度(8107) DEG.C</th>\n",
       "      <th>钻头位置(8005) m</th>\n",
       "      <th>入口密度(8104) g/cm3</th>\n",
       "      <th>扭矩(8013) kN.m</th>\n",
       "      <th>大钩负荷(8010) kN</th>\n",
       "      <th>总池体积(8112) m3</th>\n",
       "      <th>溢流</th>\n",
       "      <th>转盘转速(8012) RPM</th>\n",
       "    </tr>\n",
       "  </thead>\n",
       "  <tbody>\n",
       "    <tr>\n",
       "      <th>0</th>\n",
       "      <td>2357.1</td>\n",
       "      <td>2350.01</td>\n",
       "      <td>6.98</td>\n",
       "      <td>1.05</td>\n",
       "      <td>48.06000</td>\n",
       "      <td>79.25001</td>\n",
       "      <td>1.48</td>\n",
       "      <td>0.0</td>\n",
       "      <td>3.59</td>\n",
       "      <td>21.97999</td>\n",
       "      <td>0.0</td>\n",
       "      <td>52.15001</td>\n",
       "      <td>63.68999</td>\n",
       "      <td>2354.62</td>\n",
       "      <td>1.5</td>\n",
       "      <td>12.32000</td>\n",
       "      <td>991.20999</td>\n",
       "      <td>137.59999</td>\n",
       "      <td>0</td>\n",
       "      <td>54.56000</td>\n",
       "    </tr>\n",
       "    <tr>\n",
       "      <th>1</th>\n",
       "      <td>2357.1</td>\n",
       "      <td>2350.01</td>\n",
       "      <td>6.98</td>\n",
       "      <td>1.05</td>\n",
       "      <td>48.06000</td>\n",
       "      <td>78.34002</td>\n",
       "      <td>1.48</td>\n",
       "      <td>0.0</td>\n",
       "      <td>3.59</td>\n",
       "      <td>21.28999</td>\n",
       "      <td>0.0</td>\n",
       "      <td>51.50002</td>\n",
       "      <td>63.68999</td>\n",
       "      <td>2354.62</td>\n",
       "      <td>1.5</td>\n",
       "      <td>12.07000</td>\n",
       "      <td>995.31999</td>\n",
       "      <td>137.63998</td>\n",
       "      <td>0</td>\n",
       "      <td>54.59000</td>\n",
       "    </tr>\n",
       "    <tr>\n",
       "      <th>2</th>\n",
       "      <td>2357.1</td>\n",
       "      <td>2350.01</td>\n",
       "      <td>6.98</td>\n",
       "      <td>1.05</td>\n",
       "      <td>48.06000</td>\n",
       "      <td>77.93003</td>\n",
       "      <td>1.47</td>\n",
       "      <td>0.0</td>\n",
       "      <td>3.59</td>\n",
       "      <td>20.96000</td>\n",
       "      <td>0.0</td>\n",
       "      <td>51.25002</td>\n",
       "      <td>63.68999</td>\n",
       "      <td>2354.62</td>\n",
       "      <td>1.5</td>\n",
       "      <td>8.62000</td>\n",
       "      <td>998.00998</td>\n",
       "      <td>137.61999</td>\n",
       "      <td>0</td>\n",
       "      <td>54.95999</td>\n",
       "    </tr>\n",
       "    <tr>\n",
       "      <th>3</th>\n",
       "      <td>2357.1</td>\n",
       "      <td>2350.01</td>\n",
       "      <td>6.98</td>\n",
       "      <td>1.04</td>\n",
       "      <td>48.06999</td>\n",
       "      <td>78.48002</td>\n",
       "      <td>1.48</td>\n",
       "      <td>0.0</td>\n",
       "      <td>3.59</td>\n",
       "      <td>21.01000</td>\n",
       "      <td>0.0</td>\n",
       "      <td>51.60002</td>\n",
       "      <td>63.68999</td>\n",
       "      <td>2354.62</td>\n",
       "      <td>1.5</td>\n",
       "      <td>6.41001</td>\n",
       "      <td>996.30998</td>\n",
       "      <td>137.58999</td>\n",
       "      <td>0</td>\n",
       "      <td>55.22998</td>\n",
       "    </tr>\n",
       "    <tr>\n",
       "      <th>4</th>\n",
       "      <td>2357.1</td>\n",
       "      <td>2350.01</td>\n",
       "      <td>6.98</td>\n",
       "      <td>1.04</td>\n",
       "      <td>48.06000</td>\n",
       "      <td>79.20001</td>\n",
       "      <td>1.48</td>\n",
       "      <td>0.0</td>\n",
       "      <td>3.59</td>\n",
       "      <td>21.03999</td>\n",
       "      <td>0.0</td>\n",
       "      <td>52.10002</td>\n",
       "      <td>63.68999</td>\n",
       "      <td>2354.62</td>\n",
       "      <td>1.5</td>\n",
       "      <td>7.72000</td>\n",
       "      <td>996.16999</td>\n",
       "      <td>137.61999</td>\n",
       "      <td>0</td>\n",
       "      <td>55.08999</td>\n",
       "    </tr>\n",
       "  </tbody>\n",
       "</table>\n",
       "</div>"
      ],
      "text/plain": [
       "   井深(8004) m  迟到井深(8006) m  大钩高度(8008) m  全烃(8219) %  入口温度(8106) DEG.C  \\\n",
       "0      2357.1       2350.01          6.98        1.05          48.06000   \n",
       "1      2357.1       2350.01          6.98        1.05          48.06000   \n",
       "2      2357.1       2350.01          6.98        1.05          48.06000   \n",
       "3      2357.1       2350.01          6.98        1.04          48.06999   \n",
       "4      2357.1       2350.01          6.98        1.04          48.06000   \n",
       "\n",
       "   泵冲次1(8059) spm  出口密度(8105) g/cm3  套管压力(8019) MPa  钻时(8020) min/m  \\\n",
       "0        79.25001              1.48             0.0            3.59   \n",
       "1        78.34002              1.48             0.0            3.59   \n",
       "2        77.93003              1.47             0.0            3.59   \n",
       "3        78.48002              1.48             0.0            3.59   \n",
       "4        79.20001              1.48             0.0            3.59   \n",
       "\n",
       "   立管压力(8018) MPa  钻压(8011) kN  入口流量(8110) L/s  出口温度(8107) DEG.C  \\\n",
       "0        21.97999          0.0        52.15001          63.68999   \n",
       "1        21.28999          0.0        51.50002          63.68999   \n",
       "2        20.96000          0.0        51.25002          63.68999   \n",
       "3        21.01000          0.0        51.60002          63.68999   \n",
       "4        21.03999          0.0        52.10002          63.68999   \n",
       "\n",
       "   钻头位置(8005) m  入口密度(8104) g/cm3  扭矩(8013) kN.m  大钩负荷(8010) kN  \\\n",
       "0       2354.62               1.5       12.32000      991.20999   \n",
       "1       2354.62               1.5       12.07000      995.31999   \n",
       "2       2354.62               1.5        8.62000      998.00998   \n",
       "3       2354.62               1.5        6.41001      996.30998   \n",
       "4       2354.62               1.5        7.72000      996.16999   \n",
       "\n",
       "   总池体积(8112) m3  溢流  转盘转速(8012) RPM  \n",
       "0      137.59999   0        54.56000  \n",
       "1      137.63998   0        54.59000  \n",
       "2      137.61999   0        54.95999  \n",
       "3      137.58999   0        55.22998  \n",
       "4      137.61999   0        55.08999  "
      ]
     },
     "execution_count": 4,
     "metadata": {},
     "output_type": "execute_result"
    }
   ],
   "source": [
    "from sklearn.preprocessing import LabelEncoder\n",
    "le = LabelEncoder()\n",
    "data.data_label = le.fit_transform(data['溢流'])\n",
    "data.head()"
   ]
  },
  {
   "cell_type": "code",
   "execution_count": 5,
   "metadata": {},
   "outputs": [
    {
     "data": {
      "text/plain": [
       "0    265554\n",
       "1     40471\n",
       "Name: 溢流, dtype: int64"
      ]
     },
     "execution_count": 5,
     "metadata": {},
     "output_type": "execute_result"
    }
   ],
   "source": [
    "data['溢流'].value_counts()"
   ]
  },
  {
   "attachments": {},
   "cell_type": "markdown",
   "metadata": {},
   "source": [
    "### labelencoder下划分X和y"
   ]
  },
  {
   "cell_type": "code",
   "execution_count": 6,
   "metadata": {},
   "outputs": [],
   "source": [
    "data_label = ['溢流']"
   ]
  },
  {
   "cell_type": "code",
   "execution_count": 7,
   "metadata": {},
   "outputs": [],
   "source": [
    "X = data.drop(data_label, axis=1)\n",
    "y = data[data_label]"
   ]
  },
  {
   "attachments": {},
   "cell_type": "markdown",
   "metadata": {},
   "source": [
    "## 加载模型"
   ]
  },
  {
   "cell_type": "code",
   "execution_count": 8,
   "metadata": {},
   "outputs": [],
   "source": [
    "from joblib import load\n",
    "# Load the saved model from disk\n",
    "clf = load('LinearSVC.joblib')"
   ]
  },
  {
   "cell_type": "code",
   "execution_count": 9,
   "metadata": {},
   "outputs": [],
   "source": [
    "# Use the model for prediction\n",
    "y_pred = clf.predict(X) "
   ]
  },
  {
   "cell_type": "code",
   "execution_count": 10,
   "metadata": {},
   "outputs": [],
   "source": [
    "test_y = pd.DataFrame(y_pred)"
   ]
  },
  {
   "cell_type": "code",
   "execution_count": 11,
   "metadata": {},
   "outputs": [
    {
     "data": {
      "text/plain": [
       "1    300547\n",
       "2      5407\n",
       "0        71\n",
       "dtype: int64"
      ]
     },
     "execution_count": 11,
     "metadata": {},
     "output_type": "execute_result"
    }
   ],
   "source": [
    "test_y.value_counts()"
   ]
  },
  {
   "attachments": {},
   "cell_type": "markdown",
   "metadata": {},
   "source": [
    "## 准确率，召回率、f1分数，看模型效果"
   ]
  },
  {
   "cell_type": "code",
   "execution_count": 12,
   "metadata": {},
   "outputs": [
    {
     "name": "stdout",
     "output_type": "stream",
     "text": [
      "              precision    recall  f1-score   support\n",
      "\n",
      "           0       1.00      0.00      0.00    265554\n",
      "           1       0.13      0.99      0.24     40471\n",
      "           2       0.00      0.00      0.00         0\n",
      "\n",
      "    accuracy                           0.13    306025\n",
      "   macro avg       0.38      0.33      0.08    306025\n",
      "weighted avg       0.89      0.13      0.03    306025\n",
      "\n"
     ]
    },
    {
     "name": "stderr",
     "output_type": "stream",
     "text": [
      "/home/klmyty/code/ML/lib/python3.10/site-packages/sklearn/metrics/_classification.py:1344: UndefinedMetricWarning: Recall and F-score are ill-defined and being set to 0.0 in labels with no true samples. Use `zero_division` parameter to control this behavior.\n",
      "  _warn_prf(average, modifier, msg_start, len(result))\n",
      "/home/klmyty/code/ML/lib/python3.10/site-packages/sklearn/metrics/_classification.py:1344: UndefinedMetricWarning: Recall and F-score are ill-defined and being set to 0.0 in labels with no true samples. Use `zero_division` parameter to control this behavior.\n",
      "  _warn_prf(average, modifier, msg_start, len(result))\n",
      "/home/klmyty/code/ML/lib/python3.10/site-packages/sklearn/metrics/_classification.py:1344: UndefinedMetricWarning: Recall and F-score are ill-defined and being set to 0.0 in labels with no true samples. Use `zero_division` parameter to control this behavior.\n",
      "  _warn_prf(average, modifier, msg_start, len(result))\n"
     ]
    }
   ],
   "source": [
    "from sklearn.metrics import classification_report\n",
    "print(classification_report(y, y_pred))"
   ]
  },
  {
   "cell_type": "markdown",
   "metadata": {},
   "source": []
  }
 ],
 "metadata": {
  "kernelspec": {
   "display_name": "ML",
   "language": "python",
   "name": "python3"
  },
  "language_info": {
   "codemirror_mode": {
    "name": "ipython",
    "version": 3
   },
   "file_extension": ".py",
   "mimetype": "text/x-python",
   "name": "python",
   "nbconvert_exporter": "python",
   "pygments_lexer": "ipython3",
   "version": "3.10.4"
  },
  "orig_nbformat": 4,
  "vscode": {
   "interpreter": {
    "hash": "5647ccd0a94c5d9e19902c8c8059eab735b05b78a2e6660931f4f4adacb2b01f"
   }
  }
 },
 "nbformat": 4,
 "nbformat_minor": 2
}
