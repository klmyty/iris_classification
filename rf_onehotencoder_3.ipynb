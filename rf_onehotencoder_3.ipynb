{
 "cells": [
  {
   "attachments": {},
   "cell_type": "markdown",
   "metadata": {},
   "source": [
    "# 建立RF模型"
   ]
  },
  {
   "cell_type": "code",
   "execution_count": 10,
   "metadata": {},
   "outputs": [
    {
     "data": {
      "text/html": [
       "<div>\n",
       "<style scoped>\n",
       "    .dataframe tbody tr th:only-of-type {\n",
       "        vertical-align: middle;\n",
       "    }\n",
       "\n",
       "    .dataframe tbody tr th {\n",
       "        vertical-align: top;\n",
       "    }\n",
       "\n",
       "    .dataframe thead th {\n",
       "        text-align: right;\n",
       "    }\n",
       "</style>\n",
       "<table border=\"1\" class=\"dataframe\">\n",
       "  <thead>\n",
       "    <tr style=\"text-align: right;\">\n",
       "      <th></th>\n",
       "      <th>井深(8004) m</th>\n",
       "      <th>迟到井深(8006) m</th>\n",
       "      <th>大钩高度(8008) m</th>\n",
       "      <th>全烃(8219) %</th>\n",
       "      <th>入口温度(8106) DEG.C</th>\n",
       "      <th>泵冲次1(8059) spm</th>\n",
       "      <th>出口密度(8105) g/cm3</th>\n",
       "      <th>套管压力(8019) MPa</th>\n",
       "      <th>钻时(8020) min/m</th>\n",
       "      <th>立管压力(8018) MPa</th>\n",
       "      <th>...</th>\n",
       "      <th>出口温度(8107) DEG.C</th>\n",
       "      <th>钻头位置(8005) m</th>\n",
       "      <th>入口密度(8104) g/cm3</th>\n",
       "      <th>扭矩(8013) kN.m</th>\n",
       "      <th>大钩负荷(8010) kN</th>\n",
       "      <th>总池体积(8112) m3</th>\n",
       "      <th>转盘转速(8012) RPM</th>\n",
       "      <th>kick_0</th>\n",
       "      <th>kick_1</th>\n",
       "      <th>kick_2</th>\n",
       "    </tr>\n",
       "  </thead>\n",
       "  <tbody>\n",
       "    <tr>\n",
       "      <th>0</th>\n",
       "      <td>3023.54</td>\n",
       "      <td>3023.5</td>\n",
       "      <td>5.46742</td>\n",
       "      <td>0.0678</td>\n",
       "      <td>48.94150</td>\n",
       "      <td>0.0</td>\n",
       "      <td>1.87959</td>\n",
       "      <td>0.0</td>\n",
       "      <td>7.98587</td>\n",
       "      <td>0.0</td>\n",
       "      <td>...</td>\n",
       "      <td>38.27520</td>\n",
       "      <td>1719.02</td>\n",
       "      <td>2.03658</td>\n",
       "      <td>0.0</td>\n",
       "      <td>228.40900</td>\n",
       "      <td>102.26800</td>\n",
       "      <td>0.0</td>\n",
       "      <td>1.0</td>\n",
       "      <td>0.0</td>\n",
       "      <td>0.0</td>\n",
       "    </tr>\n",
       "    <tr>\n",
       "      <th>1</th>\n",
       "      <td>3023.54</td>\n",
       "      <td>3023.5</td>\n",
       "      <td>5.44833</td>\n",
       "      <td>0.0678</td>\n",
       "      <td>48.91951</td>\n",
       "      <td>0.0</td>\n",
       "      <td>1.87959</td>\n",
       "      <td>0.0</td>\n",
       "      <td>7.98587</td>\n",
       "      <td>0.0</td>\n",
       "      <td>...</td>\n",
       "      <td>38.26581</td>\n",
       "      <td>1719.02</td>\n",
       "      <td>2.03661</td>\n",
       "      <td>0.0</td>\n",
       "      <td>256.32600</td>\n",
       "      <td>102.34000</td>\n",
       "      <td>0.0</td>\n",
       "      <td>1.0</td>\n",
       "      <td>0.0</td>\n",
       "      <td>0.0</td>\n",
       "    </tr>\n",
       "    <tr>\n",
       "      <th>2</th>\n",
       "      <td>3023.54</td>\n",
       "      <td>3023.5</td>\n",
       "      <td>5.31942</td>\n",
       "      <td>0.0678</td>\n",
       "      <td>48.91951</td>\n",
       "      <td>0.0</td>\n",
       "      <td>1.88025</td>\n",
       "      <td>0.0</td>\n",
       "      <td>7.98587</td>\n",
       "      <td>0.0</td>\n",
       "      <td>...</td>\n",
       "      <td>38.26581</td>\n",
       "      <td>1719.02</td>\n",
       "      <td>2.03661</td>\n",
       "      <td>0.0</td>\n",
       "      <td>239.40600</td>\n",
       "      <td>102.60399</td>\n",
       "      <td>0.0</td>\n",
       "      <td>1.0</td>\n",
       "      <td>0.0</td>\n",
       "      <td>0.0</td>\n",
       "    </tr>\n",
       "    <tr>\n",
       "      <th>3</th>\n",
       "      <td>3023.54</td>\n",
       "      <td>3023.5</td>\n",
       "      <td>5.30988</td>\n",
       "      <td>0.0678</td>\n",
       "      <td>48.94150</td>\n",
       "      <td>0.0</td>\n",
       "      <td>1.88025</td>\n",
       "      <td>0.0</td>\n",
       "      <td>7.98587</td>\n",
       "      <td>0.0</td>\n",
       "      <td>...</td>\n",
       "      <td>38.27520</td>\n",
       "      <td>1719.02</td>\n",
       "      <td>2.03658</td>\n",
       "      <td>0.0</td>\n",
       "      <td>261.40100</td>\n",
       "      <td>102.43500</td>\n",
       "      <td>0.0</td>\n",
       "      <td>1.0</td>\n",
       "      <td>0.0</td>\n",
       "      <td>0.0</td>\n",
       "    </tr>\n",
       "    <tr>\n",
       "      <th>4</th>\n",
       "      <td>3023.54</td>\n",
       "      <td>3023.5</td>\n",
       "      <td>5.57726</td>\n",
       "      <td>0.0678</td>\n",
       "      <td>48.91951</td>\n",
       "      <td>0.0</td>\n",
       "      <td>1.88025</td>\n",
       "      <td>0.0</td>\n",
       "      <td>7.98587</td>\n",
       "      <td>0.0</td>\n",
       "      <td>...</td>\n",
       "      <td>38.26581</td>\n",
       "      <td>1719.02</td>\n",
       "      <td>2.03661</td>\n",
       "      <td>0.0</td>\n",
       "      <td>793.15399</td>\n",
       "      <td>102.59900</td>\n",
       "      <td>0.0</td>\n",
       "      <td>1.0</td>\n",
       "      <td>0.0</td>\n",
       "      <td>0.0</td>\n",
       "    </tr>\n",
       "  </tbody>\n",
       "</table>\n",
       "<p>5 rows × 22 columns</p>\n",
       "</div>"
      ],
      "text/plain": [
       "   井深(8004) m  迟到井深(8006) m  大钩高度(8008) m  全烃(8219) %  入口温度(8106) DEG.C  \\\n",
       "0     3023.54        3023.5       5.46742      0.0678          48.94150   \n",
       "1     3023.54        3023.5       5.44833      0.0678          48.91951   \n",
       "2     3023.54        3023.5       5.31942      0.0678          48.91951   \n",
       "3     3023.54        3023.5       5.30988      0.0678          48.94150   \n",
       "4     3023.54        3023.5       5.57726      0.0678          48.91951   \n",
       "\n",
       "   泵冲次1(8059) spm  出口密度(8105) g/cm3  套管压力(8019) MPa  钻时(8020) min/m  \\\n",
       "0             0.0           1.87959             0.0         7.98587   \n",
       "1             0.0           1.87959             0.0         7.98587   \n",
       "2             0.0           1.88025             0.0         7.98587   \n",
       "3             0.0           1.88025             0.0         7.98587   \n",
       "4             0.0           1.88025             0.0         7.98587   \n",
       "\n",
       "   立管压力(8018) MPa  ...  出口温度(8107) DEG.C  钻头位置(8005) m  入口密度(8104) g/cm3  \\\n",
       "0             0.0  ...          38.27520       1719.02           2.03658   \n",
       "1             0.0  ...          38.26581       1719.02           2.03661   \n",
       "2             0.0  ...          38.26581       1719.02           2.03661   \n",
       "3             0.0  ...          38.27520       1719.02           2.03658   \n",
       "4             0.0  ...          38.26581       1719.02           2.03661   \n",
       "\n",
       "   扭矩(8013) kN.m  大钩负荷(8010) kN  总池体积(8112) m3  转盘转速(8012) RPM  kick_0  \\\n",
       "0            0.0      228.40900      102.26800             0.0     1.0   \n",
       "1            0.0      256.32600      102.34000             0.0     1.0   \n",
       "2            0.0      239.40600      102.60399             0.0     1.0   \n",
       "3            0.0      261.40100      102.43500             0.0     1.0   \n",
       "4            0.0      793.15399      102.59900             0.0     1.0   \n",
       "\n",
       "   kick_1  kick_2  \n",
       "0     0.0     0.0  \n",
       "1     0.0     0.0  \n",
       "2     0.0     0.0  \n",
       "3     0.0     0.0  \n",
       "4     0.0     0.0  \n",
       "\n",
       "[5 rows x 22 columns]"
      ]
     },
     "execution_count": 10,
     "metadata": {},
     "output_type": "execute_result"
    }
   ],
   "source": [
    "import numpy as np\n",
    "import pandas as pd\n",
    "readpath = r'井1井13合并_encoded.csv'\n",
    "data = pd.read_csv(readpath,encoding='GBK')\n",
    "data.head()"
   ]
  },
  {
   "attachments": {},
   "cell_type": "markdown",
   "metadata": {},
   "source": [
    "## 用onehotencoder后划分训练集和测试集"
   ]
  },
  {
   "cell_type": "code",
   "execution_count": 11,
   "metadata": {},
   "outputs": [],
   "source": [
    "data_label = ['kick_0', 'kick_1', 'kick_2']"
   ]
  },
  {
   "cell_type": "code",
   "execution_count": 12,
   "metadata": {},
   "outputs": [],
   "source": [
    "X = data.drop(data_label, axis=1)\n",
    "y = data[data_label]\n",
    "from sklearn.model_selection import train_test_split\n",
    "X_train,X_test,y_train,y_test = train_test_split(X,y, random_state=42,stratify = y)"
   ]
  },
  {
   "cell_type": "code",
   "execution_count": 13,
   "metadata": {},
   "outputs": [
    {
     "data": {
      "text/html": [
       "<div>\n",
       "<style scoped>\n",
       "    .dataframe tbody tr th:only-of-type {\n",
       "        vertical-align: middle;\n",
       "    }\n",
       "\n",
       "    .dataframe tbody tr th {\n",
       "        vertical-align: top;\n",
       "    }\n",
       "\n",
       "    .dataframe thead th {\n",
       "        text-align: right;\n",
       "    }\n",
       "</style>\n",
       "<table border=\"1\" class=\"dataframe\">\n",
       "  <thead>\n",
       "    <tr style=\"text-align: right;\">\n",
       "      <th></th>\n",
       "      <th>井深(8004) m</th>\n",
       "      <th>迟到井深(8006) m</th>\n",
       "      <th>大钩高度(8008) m</th>\n",
       "      <th>全烃(8219) %</th>\n",
       "      <th>入口温度(8106) DEG.C</th>\n",
       "      <th>泵冲次1(8059) spm</th>\n",
       "      <th>出口密度(8105) g/cm3</th>\n",
       "      <th>套管压力(8019) MPa</th>\n",
       "      <th>钻时(8020) min/m</th>\n",
       "      <th>立管压力(8018) MPa</th>\n",
       "      <th>钻压(8011) kN</th>\n",
       "      <th>入口流量(8110) L/s</th>\n",
       "      <th>出口温度(8107) DEG.C</th>\n",
       "      <th>钻头位置(8005) m</th>\n",
       "      <th>入口密度(8104) g/cm3</th>\n",
       "      <th>扭矩(8013) kN.m</th>\n",
       "      <th>大钩负荷(8010) kN</th>\n",
       "      <th>总池体积(8112) m3</th>\n",
       "      <th>转盘转速(8012) RPM</th>\n",
       "    </tr>\n",
       "  </thead>\n",
       "  <tbody>\n",
       "    <tr>\n",
       "      <th>11392</th>\n",
       "      <td>3023.54000</td>\n",
       "      <td>3023.50000</td>\n",
       "      <td>34.39809</td>\n",
       "      <td>0.06053</td>\n",
       "      <td>34.95851</td>\n",
       "      <td>0.00000</td>\n",
       "      <td>1.99665</td>\n",
       "      <td>0.0</td>\n",
       "      <td>7.98587</td>\n",
       "      <td>0.00000</td>\n",
       "      <td>0.00000</td>\n",
       "      <td>0.00000</td>\n",
       "      <td>32.32562</td>\n",
       "      <td>2002.63000</td>\n",
       "      <td>1.99976</td>\n",
       "      <td>0.00000</td>\n",
       "      <td>247.02001</td>\n",
       "      <td>116.09399</td>\n",
       "      <td>0.00000</td>\n",
       "    </tr>\n",
       "    <tr>\n",
       "      <th>27382</th>\n",
       "      <td>3023.54000</td>\n",
       "      <td>3023.50000</td>\n",
       "      <td>28.41642</td>\n",
       "      <td>1.53878</td>\n",
       "      <td>46.43900</td>\n",
       "      <td>59.85071</td>\n",
       "      <td>2.08909</td>\n",
       "      <td>0.0</td>\n",
       "      <td>7.98587</td>\n",
       "      <td>17.88781</td>\n",
       "      <td>-33.05470</td>\n",
       "      <td>26.73770</td>\n",
       "      <td>48.33780</td>\n",
       "      <td>2620.55997</td>\n",
       "      <td>2.08229</td>\n",
       "      <td>4.25582</td>\n",
       "      <td>1092.69999</td>\n",
       "      <td>105.83002</td>\n",
       "      <td>25.60219</td>\n",
       "    </tr>\n",
       "    <tr>\n",
       "      <th>59101</th>\n",
       "      <td>3023.54000</td>\n",
       "      <td>3023.50000</td>\n",
       "      <td>4.12569</td>\n",
       "      <td>0.02930</td>\n",
       "      <td>24.65931</td>\n",
       "      <td>0.00000</td>\n",
       "      <td>0.88612</td>\n",
       "      <td>0.0</td>\n",
       "      <td>7.98587</td>\n",
       "      <td>0.00000</td>\n",
       "      <td>0.00000</td>\n",
       "      <td>0.00000</td>\n",
       "      <td>21.26881</td>\n",
       "      <td>2021.90000</td>\n",
       "      <td>1.16433</td>\n",
       "      <td>0.00000</td>\n",
       "      <td>225.02501</td>\n",
       "      <td>105.93698</td>\n",
       "      <td>0.00000</td>\n",
       "    </tr>\n",
       "    <tr>\n",
       "      <th>153126</th>\n",
       "      <td>2568.37998</td>\n",
       "      <td>2559.41998</td>\n",
       "      <td>26.34002</td>\n",
       "      <td>7.29998</td>\n",
       "      <td>54.23000</td>\n",
       "      <td>73.06004</td>\n",
       "      <td>1.57000</td>\n",
       "      <td>0.0</td>\n",
       "      <td>4.00000</td>\n",
       "      <td>22.11001</td>\n",
       "      <td>89.11000</td>\n",
       "      <td>48.05001</td>\n",
       "      <td>71.55000</td>\n",
       "      <td>2568.37998</td>\n",
       "      <td>1.58000</td>\n",
       "      <td>17.96001</td>\n",
       "      <td>969.97000</td>\n",
       "      <td>133.34996</td>\n",
       "      <td>54.82997</td>\n",
       "    </tr>\n",
       "    <tr>\n",
       "      <th>351631</th>\n",
       "      <td>2803.27999</td>\n",
       "      <td>2800.66998</td>\n",
       "      <td>23.52000</td>\n",
       "      <td>2.44001</td>\n",
       "      <td>56.88000</td>\n",
       "      <td>71.87998</td>\n",
       "      <td>1.73000</td>\n",
       "      <td>0.0</td>\n",
       "      <td>23.30000</td>\n",
       "      <td>23.37001</td>\n",
       "      <td>146.17998</td>\n",
       "      <td>47.28998</td>\n",
       "      <td>76.18999</td>\n",
       "      <td>2803.27999</td>\n",
       "      <td>1.73000</td>\n",
       "      <td>18.26999</td>\n",
       "      <td>954.62002</td>\n",
       "      <td>147.53003</td>\n",
       "      <td>60.51001</td>\n",
       "    </tr>\n",
       "  </tbody>\n",
       "</table>\n",
       "</div>"
      ],
      "text/plain": [
       "        井深(8004) m  迟到井深(8006) m  大钩高度(8008) m  全烃(8219) %  入口温度(8106) DEG.C  \\\n",
       "11392   3023.54000    3023.50000      34.39809     0.06053          34.95851   \n",
       "27382   3023.54000    3023.50000      28.41642     1.53878          46.43900   \n",
       "59101   3023.54000    3023.50000       4.12569     0.02930          24.65931   \n",
       "153126  2568.37998    2559.41998      26.34002     7.29998          54.23000   \n",
       "351631  2803.27999    2800.66998      23.52000     2.44001          56.88000   \n",
       "\n",
       "        泵冲次1(8059) spm  出口密度(8105) g/cm3  套管压力(8019) MPa  钻时(8020) min/m  \\\n",
       "11392          0.00000           1.99665             0.0         7.98587   \n",
       "27382         59.85071           2.08909             0.0         7.98587   \n",
       "59101          0.00000           0.88612             0.0         7.98587   \n",
       "153126        73.06004           1.57000             0.0         4.00000   \n",
       "351631        71.87998           1.73000             0.0        23.30000   \n",
       "\n",
       "        立管压力(8018) MPa  钻压(8011) kN  入口流量(8110) L/s  出口温度(8107) DEG.C  \\\n",
       "11392          0.00000      0.00000         0.00000          32.32562   \n",
       "27382         17.88781    -33.05470        26.73770          48.33780   \n",
       "59101          0.00000      0.00000         0.00000          21.26881   \n",
       "153126        22.11001     89.11000        48.05001          71.55000   \n",
       "351631        23.37001    146.17998        47.28998          76.18999   \n",
       "\n",
       "        钻头位置(8005) m  入口密度(8104) g/cm3  扭矩(8013) kN.m  大钩负荷(8010) kN  \\\n",
       "11392     2002.63000           1.99976        0.00000      247.02001   \n",
       "27382     2620.55997           2.08229        4.25582     1092.69999   \n",
       "59101     2021.90000           1.16433        0.00000      225.02501   \n",
       "153126    2568.37998           1.58000       17.96001      969.97000   \n",
       "351631    2803.27999           1.73000       18.26999      954.62002   \n",
       "\n",
       "        总池体积(8112) m3  转盘转速(8012) RPM  \n",
       "11392       116.09399         0.00000  \n",
       "27382       105.83002        25.60219  \n",
       "59101       105.93698         0.00000  \n",
       "153126      133.34996        54.82997  \n",
       "351631      147.53003        60.51001  "
      ]
     },
     "execution_count": 13,
     "metadata": {},
     "output_type": "execute_result"
    }
   ],
   "source": [
    "X_train.head()"
   ]
  },
  {
   "cell_type": "code",
   "execution_count": 14,
   "metadata": {},
   "outputs": [
    {
     "data": {
      "text/html": [
       "<style>#sk-container-id-2 {color: black;background-color: white;}#sk-container-id-2 pre{padding: 0;}#sk-container-id-2 div.sk-toggleable {background-color: white;}#sk-container-id-2 label.sk-toggleable__label {cursor: pointer;display: block;width: 100%;margin-bottom: 0;padding: 0.3em;box-sizing: border-box;text-align: center;}#sk-container-id-2 label.sk-toggleable__label-arrow:before {content: \"▸\";float: left;margin-right: 0.25em;color: #696969;}#sk-container-id-2 label.sk-toggleable__label-arrow:hover:before {color: black;}#sk-container-id-2 div.sk-estimator:hover label.sk-toggleable__label-arrow:before {color: black;}#sk-container-id-2 div.sk-toggleable__content {max-height: 0;max-width: 0;overflow: hidden;text-align: left;background-color: #f0f8ff;}#sk-container-id-2 div.sk-toggleable__content pre {margin: 0.2em;color: black;border-radius: 0.25em;background-color: #f0f8ff;}#sk-container-id-2 input.sk-toggleable__control:checked~div.sk-toggleable__content {max-height: 200px;max-width: 100%;overflow: auto;}#sk-container-id-2 input.sk-toggleable__control:checked~label.sk-toggleable__label-arrow:before {content: \"▾\";}#sk-container-id-2 div.sk-estimator input.sk-toggleable__control:checked~label.sk-toggleable__label {background-color: #d4ebff;}#sk-container-id-2 div.sk-label input.sk-toggleable__control:checked~label.sk-toggleable__label {background-color: #d4ebff;}#sk-container-id-2 input.sk-hidden--visually {border: 0;clip: rect(1px 1px 1px 1px);clip: rect(1px, 1px, 1px, 1px);height: 1px;margin: -1px;overflow: hidden;padding: 0;position: absolute;width: 1px;}#sk-container-id-2 div.sk-estimator {font-family: monospace;background-color: #f0f8ff;border: 1px dotted black;border-radius: 0.25em;box-sizing: border-box;margin-bottom: 0.5em;}#sk-container-id-2 div.sk-estimator:hover {background-color: #d4ebff;}#sk-container-id-2 div.sk-parallel-item::after {content: \"\";width: 100%;border-bottom: 1px solid gray;flex-grow: 1;}#sk-container-id-2 div.sk-label:hover label.sk-toggleable__label {background-color: #d4ebff;}#sk-container-id-2 div.sk-serial::before {content: \"\";position: absolute;border-left: 1px solid gray;box-sizing: border-box;top: 0;bottom: 0;left: 50%;z-index: 0;}#sk-container-id-2 div.sk-serial {display: flex;flex-direction: column;align-items: center;background-color: white;padding-right: 0.2em;padding-left: 0.2em;position: relative;}#sk-container-id-2 div.sk-item {position: relative;z-index: 1;}#sk-container-id-2 div.sk-parallel {display: flex;align-items: stretch;justify-content: center;background-color: white;position: relative;}#sk-container-id-2 div.sk-item::before, #sk-container-id-2 div.sk-parallel-item::before {content: \"\";position: absolute;border-left: 1px solid gray;box-sizing: border-box;top: 0;bottom: 0;left: 50%;z-index: -1;}#sk-container-id-2 div.sk-parallel-item {display: flex;flex-direction: column;z-index: 1;position: relative;background-color: white;}#sk-container-id-2 div.sk-parallel-item:first-child::after {align-self: flex-end;width: 50%;}#sk-container-id-2 div.sk-parallel-item:last-child::after {align-self: flex-start;width: 50%;}#sk-container-id-2 div.sk-parallel-item:only-child::after {width: 0;}#sk-container-id-2 div.sk-dashed-wrapped {border: 1px dashed gray;margin: 0 0.4em 0.5em 0.4em;box-sizing: border-box;padding-bottom: 0.4em;background-color: white;}#sk-container-id-2 div.sk-label label {font-family: monospace;font-weight: bold;display: inline-block;line-height: 1.2em;}#sk-container-id-2 div.sk-label-container {text-align: center;}#sk-container-id-2 div.sk-container {/* jupyter's `normalize.less` sets `[hidden] { display: none; }` but bootstrap.min.css set `[hidden] { display: none !important; }` so we also need the `!important` here to be able to override the default hidden behavior on the sphinx rendered scikit-learn.org. See: https://github.com/scikit-learn/scikit-learn/issues/21755 */display: inline-block !important;position: relative;}#sk-container-id-2 div.sk-text-repr-fallback {display: none;}</style><div id=\"sk-container-id-2\" class=\"sk-top-container\"><div class=\"sk-text-repr-fallback\"><pre>RandomForestClassifier(random_state=0)</pre><b>In a Jupyter environment, please rerun this cell to show the HTML representation or trust the notebook. <br />On GitHub, the HTML representation is unable to render, please try loading this page with nbviewer.org.</b></div><div class=\"sk-container\" hidden><div class=\"sk-item\"><div class=\"sk-estimator sk-toggleable\"><input class=\"sk-toggleable__control sk-hidden--visually\" id=\"sk-estimator-id-2\" type=\"checkbox\" checked><label for=\"sk-estimator-id-2\" class=\"sk-toggleable__label sk-toggleable__label-arrow\">RandomForestClassifier</label><div class=\"sk-toggleable__content\"><pre>RandomForestClassifier(random_state=0)</pre></div></div></div></div></div>"
      ],
      "text/plain": [
       "RandomForestClassifier(random_state=0)"
      ]
     },
     "execution_count": 14,
     "metadata": {},
     "output_type": "execute_result"
    }
   ],
   "source": [
    "from sklearn.ensemble import RandomForestClassifier\n",
    "\n",
    "clf = RandomForestClassifier(random_state=0)\n",
    "clf.fit(X_train, y_train)\n"
   ]
  },
  {
   "attachments": {},
   "cell_type": "markdown",
   "metadata": {},
   "source": [
    "## 预测"
   ]
  },
  {
   "cell_type": "code",
   "execution_count": 15,
   "metadata": {},
   "outputs": [],
   "source": [
    "y_pred = clf.predict(X_test)"
   ]
  },
  {
   "attachments": {},
   "cell_type": "markdown",
   "metadata": {},
   "source": [
    "## 准确率，召回率、f1分数，看模型效果"
   ]
  },
  {
   "cell_type": "code",
   "execution_count": 16,
   "metadata": {},
   "outputs": [
    {
     "name": "stdout",
     "output_type": "stream",
     "text": [
      "              precision    recall  f1-score   support\n",
      "\n",
      "           0       1.00      1.00      1.00     83143\n",
      "           1       1.00      0.99      0.99       576\n",
      "           2       1.00      1.00      1.00     10118\n",
      "\n",
      "   micro avg       1.00      1.00      1.00     93837\n",
      "   macro avg       1.00      1.00      1.00     93837\n",
      "weighted avg       1.00      1.00      1.00     93837\n",
      " samples avg       1.00      1.00      1.00     93837\n",
      "\n"
     ]
    },
    {
     "name": "stderr",
     "output_type": "stream",
     "text": [
      "/home/klmyty/code/ML/lib/python3.10/site-packages/sklearn/metrics/_classification.py:1344: UndefinedMetricWarning: Precision and F-score are ill-defined and being set to 0.0 in samples with no predicted labels. Use `zero_division` parameter to control this behavior.\n",
      "  _warn_prf(average, modifier, msg_start, len(result))\n"
     ]
    }
   ],
   "source": [
    "from sklearn.metrics import classification_report\n",
    "print(classification_report(y_test, y_pred))"
   ]
  },
  {
   "cell_type": "code",
   "execution_count": 17,
   "metadata": {},
   "outputs": [
    {
     "name": "stdout",
     "output_type": "stream",
     "text": [
      "训练集得分：1.000\n",
      "测试集得分：1.000\n"
     ]
    }
   ],
   "source": [
    "print('训练集得分：{:.3f}'.format(clf.score(X_train, y_train)))\n",
    "print('测试集得分：{:.3f}'.format(clf.score(X_test, y_test)))"
   ]
  },
  {
   "attachments": {},
   "cell_type": "markdown",
   "metadata": {},
   "source": [
    "## 保存训练好的随机森林模型"
   ]
  },
  {
   "cell_type": "code",
   "execution_count": 19,
   "metadata": {},
   "outputs": [
    {
     "data": {
      "text/plain": [
       "['random_forest_onehot.joblib']"
      ]
     },
     "execution_count": 19,
     "metadata": {},
     "output_type": "execute_result"
    }
   ],
   "source": [
    "from joblib import dump\n",
    "# Save the model to disk\n",
    "dump(clf, 'random_forest_onehot.joblib')"
   ]
  },
  {
   "attachments": {},
   "cell_type": "markdown",
   "metadata": {},
   "source": [
    "https://www.bilibili.com/video/BV1EE41167is/?t=1971.7&vd_source=5a4cd99d762c13ac617e2492d7cfca86"
   ]
  },
  {
   "attachments": {},
   "cell_type": "markdown",
   "metadata": {},
   "source": [
    "## 通过视频学习的代码"
   ]
  },
  {
   "cell_type": "code",
   "execution_count": 13,
   "metadata": {},
   "outputs": [],
   "source": [
    "from sklearn.model_selection import GridSearchCV #用来优化超参数的网格搜索\n",
    "from sklearn.metrics import roc_curve,auc,roc_auc_score\n",
    "import matplotlib.pyplot as plt"
   ]
  },
  {
   "attachments": {},
   "cell_type": "markdown",
   "metadata": {},
   "source": [
    "## 交叉验证"
   ]
  },
  {
   "cell_type": "code",
   "execution_count": 16,
   "metadata": {},
   "outputs": [
    {
     "name": "stderr",
     "output_type": "stream",
     "text": [
      "/home/klmyty/code/ML/lib/python3.10/site-packages/sklearn/model_selection/_validation.py:686: DataConversionWarning: A column-vector y was passed when a 1d array was expected. Please change the shape of y to (n_samples,), for example using ravel().\n",
      "  estimator.fit(X_train, y_train, **fit_params)\n",
      "/home/klmyty/code/ML/lib/python3.10/site-packages/sklearn/model_selection/_validation.py:686: DataConversionWarning: A column-vector y was passed when a 1d array was expected. Please change the shape of y to (n_samples,), for example using ravel().\n",
      "  estimator.fit(X_train, y_train, **fit_params)\n",
      "/home/klmyty/code/ML/lib/python3.10/site-packages/sklearn/model_selection/_validation.py:686: DataConversionWarning: A column-vector y was passed when a 1d array was expected. Please change the shape of y to (n_samples,), for example using ravel().\n",
      "  estimator.fit(X_train, y_train, **fit_params)\n",
      "/home/klmyty/code/ML/lib/python3.10/site-packages/sklearn/model_selection/_validation.py:686: DataConversionWarning: A column-vector y was passed when a 1d array was expected. Please change the shape of y to (n_samples,), for example using ravel().\n",
      "  estimator.fit(X_train, y_train, **fit_params)\n",
      "/home/klmyty/code/ML/lib/python3.10/site-packages/sklearn/model_selection/_validation.py:686: DataConversionWarning: A column-vector y was passed when a 1d array was expected. Please change the shape of y to (n_samples,), for example using ravel().\n",
      "  estimator.fit(X_train, y_train, **fit_params)\n",
      "/home/klmyty/code/ML/lib/python3.10/site-packages/sklearn/model_selection/_validation.py:686: DataConversionWarning: A column-vector y was passed when a 1d array was expected. Please change the shape of y to (n_samples,), for example using ravel().\n",
      "  estimator.fit(X_train, y_train, **fit_params)\n",
      "/home/klmyty/code/ML/lib/python3.10/site-packages/sklearn/model_selection/_validation.py:686: DataConversionWarning: A column-vector y was passed when a 1d array was expected. Please change the shape of y to (n_samples,), for example using ravel().\n",
      "  estimator.fit(X_train, y_train, **fit_params)\n",
      "/home/klmyty/code/ML/lib/python3.10/site-packages/sklearn/model_selection/_validation.py:686: DataConversionWarning: A column-vector y was passed when a 1d array was expected. Please change the shape of y to (n_samples,), for example using ravel().\n",
      "  estimator.fit(X_train, y_train, **fit_params)\n",
      "/home/klmyty/code/ML/lib/python3.10/site-packages/sklearn/model_selection/_validation.py:686: DataConversionWarning: A column-vector y was passed when a 1d array was expected. Please change the shape of y to (n_samples,), for example using ravel().\n",
      "  estimator.fit(X_train, y_train, **fit_params)\n",
      "/home/klmyty/code/ML/lib/python3.10/site-packages/sklearn/model_selection/_validation.py:686: DataConversionWarning: A column-vector y was passed when a 1d array was expected. Please change the shape of y to (n_samples,), for example using ravel().\n",
      "  estimator.fit(X_train, y_train, **fit_params)\n"
     ]
    },
    {
     "name": "stdout",
     "output_type": "stream",
     "text": [
      "[0.99787234 0.99733901 0.99733901 0.99574242 0.99627461 0.99680681\n",
      " 0.99627461 0.99361362 0.99787121 0.99627461]\n"
     ]
    }
   ],
   "source": [
    "from sklearn.model_selection import cross_val_score # 通过交叉验证评估分数。\n",
    "score = cross_val_score(clf,X_test,y_test, cv=10)\n",
    "print(score)"
   ]
  },
  {
   "cell_type": "code",
   "execution_count": 17,
   "metadata": {},
   "outputs": [
    {
     "data": {
      "text/plain": [
       "0.9965408263789023"
      ]
     },
     "execution_count": 17,
     "metadata": {},
     "output_type": "execute_result"
    }
   ],
   "source": [
    "score.mean()"
   ]
  }
 ],
 "metadata": {
  "kernelspec": {
   "display_name": "ML",
   "language": "python",
   "name": "python3"
  },
  "language_info": {
   "codemirror_mode": {
    "name": "ipython",
    "version": 3
   },
   "file_extension": ".py",
   "mimetype": "text/x-python",
   "name": "python",
   "nbconvert_exporter": "python",
   "pygments_lexer": "ipython3",
   "version": "3.10.4"
  },
  "orig_nbformat": 4,
  "vscode": {
   "interpreter": {
    "hash": "5647ccd0a94c5d9e19902c8c8059eab735b05b78a2e6660931f4f4adacb2b01f"
   }
  }
 },
 "nbformat": 4,
 "nbformat_minor": 2
}
